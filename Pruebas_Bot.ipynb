{
 "cells": [
  {
   "cell_type": "code",
   "execution_count": 2,
   "metadata": {},
   "outputs": [],
   "source": [
    "from Auxiliares import ReadTemp"
   ]
  },
  {
   "cell_type": "code",
   "execution_count": 28,
   "metadata": {},
   "outputs": [],
   "source": [
    "temp_335= ReadTemp(a = '/home/bruce/Documents/Programas/Bot/history_2023Aug11.txt')\n"
   ]
  },
  {
   "cell_type": "code",
   "execution_count": 40,
   "metadata": {},
   "outputs": [
    {
     "name": "stdout",
     "output_type": "stream",
     "text": [
      "22:05:31  2023-08-17, +170.00, +169.98, HP +003.1% High                 \n",
      "\n"
     ]
    },
    {
     "data": {
      "text/plain": [
       "['22:05:31',\n",
       " '',\n",
       " '2023-08-17,',\n",
       " '+170.00,',\n",
       " '+169.98,',\n",
       " 'HP',\n",
       " '+003.1%',\n",
       " 'High',\n",
       " '',\n",
       " '',\n",
       " '',\n",
       " '',\n",
       " '',\n",
       " '',\n",
       " '',\n",
       " '',\n",
       " '',\n",
       " '',\n",
       " '',\n",
       " '',\n",
       " '',\n",
       " '',\n",
       " '',\n",
       " '',\n",
       " '\\n']"
      ]
     },
     "execution_count": 40,
     "metadata": {},
     "output_type": "execute_result"
    }
   ],
   "source": [
    "print(temp_335)\n",
    "tempList = temp_335.split(' ')\n",
    "tempList\n"
   ]
  },
  {
   "cell_type": "code",
   "execution_count": 39,
   "metadata": {},
   "outputs": [
    {
     "name": "stdout",
     "output_type": "stream",
     "text": [
      "['22:05:31', '2023-08-17,', '+170.00,', '+169.98,', 'HP', '+003.1%', 'High']\n",
      "22:05:31\n",
      "2023-08-17,\n",
      "+170.00,\n",
      "+003.1%\n",
      "High\n"
     ]
    }
   ],
   "source": [
    "cleanlist = []\n",
    "for line in tempList:\n",
    "    if line.startswith('\\n'):\n",
    "        continue\n",
    "    if len(line) == 0:\n",
    "        continue\n",
    "    cleanlist.append(line)\n",
    "\n",
    "print(cleanlist)\n",
    "\n",
    "measureTime = cleanlist[0]\n",
    "Date = cleanlist[1]\n",
    "CernoxA = cleanlist[2]\n",
    "heater = cleanlist[-2]\n",
    "power = cleanlist[-1]\n",
    "\n",
    "# hour, min, seg = tempList[0].split(':')\n",
    "# print(tempList[0])\n",
    "# print(tempList[2])\n",
    "# len(tempList[1])\n",
    "print(measureTime)\n",
    "print(Date)\n",
    "print(CernoxA)\n",
    "print(heater)\n",
    "print(power)"
   ]
  }
 ],
 "metadata": {
  "kernelspec": {
   "display_name": "Python 3",
   "language": "python",
   "name": "python3"
  },
  "language_info": {
   "codemirror_mode": {
    "name": "ipython",
    "version": 3
   },
   "file_extension": ".py",
   "mimetype": "text/x-python",
   "name": "python",
   "nbconvert_exporter": "python",
   "pygments_lexer": "ipython3",
   "version": "3.10.12"
  },
  "orig_nbformat": 4
 },
 "nbformat": 4,
 "nbformat_minor": 2
}
