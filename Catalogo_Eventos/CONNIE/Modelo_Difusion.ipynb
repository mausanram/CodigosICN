{
 "cells": [
  {
   "cell_type": "code",
   "execution_count": 1,
   "metadata": {},
   "outputs": [],
   "source": [
    "import pickle as pck\n",
    "import matplotlib.pyplot as plt\n",
    "import numpy as np\n",
    "from scipy.optimize import curve_fit\n",
    "# import pylandau as pland\n",
    "# import ROOT\n",
    "import sys\n",
    "import scipy.ndimage as ndimage\n",
    "import numpy.ma as ma\n",
    "# from functions_MuonsNSAMP1 import diffution_vertical_muon, check_flip_vertical_muon, check_flip_horizontal_muon, diffution_horizontal_muon\n",
    "\n",
    "def gaussian(x, a, mean, sigma):\n",
    "    return a * np.exp(-((x - mean)**2 / (2 * sigma**2)))\n",
    "    \n",
    "\n",
    "def diffution_curve(z, alpha, beta):\n",
    "    return np.sqrt(np.abs(alpha * np.log(1 - (beta * z))))\n",
    "    \n",
    "from reportlab.pdfgen import canvas\n",
    "from reportlab.lib.pagesizes import A4, letter\n",
    "from reportlab.lib.utils import ImageReader"
   ]
  },
  {
   "cell_type": "code",
   "execution_count": 2,
   "metadata": {},
   "outputs": [],
   "source": [
    "plt.rcParams.update({\n",
    "    \"image.origin\": \"lower\",\n",
    "    \"image.aspect\": 1,\n",
    "    #\"text.usetex\": True,\n",
    "    \"grid.alpha\": .5,\n",
    "    \"axes.linewidth\":2,\n",
    "    \"lines.linewidth\" : 1,\n",
    "    \"font.size\":    15.0,\n",
    "    \"xaxis.labellocation\": 'right',  # alignment of the xaxis label: {left, right, center}\n",
    "    \"yaxis.labellocation\": 'top',  # alignment of the yaxis label: {bottom, top, center}\n",
    "    \"xtick.top\":           True ,  # draw ticks on the top side\n",
    "    \"xtick.major.size\":    8    ,# major tick size in points\n",
    "    \"xtick.minor.size\":    4      ,# minor tick size in points\n",
    "    \"xtick.direction\":     'in',\n",
    "    \"xtick.minor.visible\": True,\n",
    "    \"ytick.right\":           True ,  # draw ticks on the top side\n",
    "    \"ytick.major.size\":    8    ,# major tick size in points\n",
    "    \"ytick.minor.size\":    4      ,# minor tick size in points\n",
    "    \"ytick.direction\":     'in',\n",
    "    \"ytick.minor.visible\": True,\n",
    "    \"ytick.major.width\":   2   , # major tick width in points\n",
    "    \"ytick.minor.width\":   1 ,\n",
    "    \"xtick.major.width\":   2   , # major tick width in points\n",
    "    \"xtick.minor.width\":   1 ,\n",
    "    \"legend.framealpha\": 0 ,\n",
    "    \"legend.loc\": 'best',\n",
    "\n",
    "})\n",
    "\n",
    "ColorMap = 'jet'"
   ]
  },
  {
   "cell_type": "code",
   "execution_count": 4,
   "metadata": {},
   "outputs": [],
   "source": [
    "path = '/home/bruce/Documents/Programas/Catalogo_Eventos/CONNIE/dict__straight_muons_Extensions_1_to_4_Imgs_5_Elip_0.9_Sol_0.7_Skirts_1_with_sigmas_ADUs__NSAMP400.pkl'\n",
    "\n",
    "\n",
    "histogram = open(path, 'rb')\n",
    "data_histogram = pck.load(histogram)\n",
    "histogram.close()"
   ]
  },
  {
   "cell_type": "code",
   "execution_count": 5,
   "metadata": {},
   "outputs": [
    {
     "name": "stdout",
     "output_type": "stream",
     "text": [
      "Llaves principales del diccionario:  dict_keys(['All_Muons_Detected', 'extension_1'])\n",
      "Llaves secundarias por extensión:  dict_keys(['charge', 'vertical_sigmas', 'Vertical_Events', 'horizontal_sigmas', 'Horizontal_Events'])\n",
      "\n",
      "Muones rectos y verticales detectados en total:  1\n"
     ]
    }
   ],
   "source": [
    "print('Llaves principales del diccionario: ', data_histogram.keys())\n",
    "print('Llaves secundarias por extensión: ', data_histogram['extension_1'].keys(), end='\\n\\n')\n",
    "\n",
    "\n",
    "print('Muones rectos y verticales detectados en total: ',data_histogram['All_Muons_Detected'])"
   ]
  },
  {
   "cell_type": "code",
   "execution_count": 8,
   "metadata": {},
   "outputs": [
    {
     "name": "stdout",
     "output_type": "stream",
     "text": [
      "Muones verticales en ext_1:  0\n",
      "Muones horizontales en ext_1:  1\n"
     ]
    }
   ],
   "source": [
    "matrix_ext_1_vertical = data_histogram['extension_1']['Vertical_Events']\n",
    "matrix_ext_1_horizontal = data_histogram['extension_1']['Horizontal_Events']\n",
    "\n",
    "print('Muones verticales en ext_1: ', len(matrix_ext_1_vertical))\n",
    "# print('Muones verticales totales detectados: ', len(matrix_ext_1_vertical) + len(matrix_ext_2_vertical) + len(matrix_ext_4_vertical), end = '\\n\\n')\n",
    "\n",
    "print('Muones horizontales en ext_1: ', len(matrix_ext_1_horizontal))\n",
    "# print('Muones horizontales totales detectados: ', len(matrix_ext_1_horizontal) + len(matrix_ext_2_horizontal) + len(matrix_ext_4_horizontal))"
   ]
  },
  {
   "cell_type": "code",
   "execution_count": 9,
   "metadata": {},
   "outputs": [
    {
     "data": {
      "text/plain": [
       "<matplotlib.image.AxesImage at 0x749da448de10>"
      ]
     },
     "execution_count": 9,
     "metadata": {},
     "output_type": "execute_result"
    },
    {
     "data": {
      "image/png": "[encoded data removed]",
      "text/plain": [
       "<Figure size 432x288 with 1 Axes>"
      ]
     },
     "metadata": {
      "needs_background": "light"
     },
     "output_type": "display_data"
    }
   ],
   "source": [
    "plt.imshow(matrix_ext_1_horizontal[0])"
   ]
  }
 ],
 "metadata": {
  "kernelspec": {
   "display_name": "Python 3",
   "language": "python",
   "name": "python3"
  },
  "language_info": {
   "codemirror_mode": {
    "name": "ipython",
    "version": 3
   },
   "file_extension": ".py",
   "mimetype": "text/x-python",
   "name": "python",
   "nbconvert_exporter": "python",
   "pygments_lexer": "ipython3",
   "version": "3.10.12"
  }
 },
 "nbformat": 4,
 "nbformat_minor": 2
}
