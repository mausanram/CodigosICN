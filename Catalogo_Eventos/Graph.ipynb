{
 "cells": [
  {
   "cell_type": "code",
   "execution_count": 1,
   "metadata": {},
   "outputs": [
    {
     "name": "stderr",
     "output_type": "stream",
     "text": [
      "QSocketNotifier: Can only be used with threads started with QThread\n"
     ]
    }
   ],
   "source": [
    "from functions_py import *\n",
    "# import matplotlib.pyplot as plt\n",
    "import matplotlib as mpl\n",
    "from mpl_toolkits.axes_grid1 import make_axes_locatable\n",
    "import numpy.ma as ma\n",
    "import pandas as pd \n",
    "import skimage as sk\n",
    "\n",
    "\n",
    "path = '/home/labdet/Documents/MauSan/imagenesMicrochip/17OCT23/am241_gammas/proc_skp_m-009_microchip_T_170__Vv82_NSAMP_324_NROW_50_NCOL_700_EXPOSURE_0_NBINROW_1_NBINCOL_1_img_690.fits'\n",
    "hdu_list = fits.open(path)\n",
    "numero_bins = 5000\n",
    "\n",
    "extension = 4\n",
    "# plt.imshow(hdu_list[0].data[:, 550:], vmin = 0, vmax = 80000, origin = 'lower')\n",
    "# Overscan = hdu_list[extension - 1].data[:, 550:]\n",
    "# oScan_mask=sk.measure.label(Overscan>=20000, connectivity=2)\n",
    "# oScan=ma.masked_array(Overscan,mask=(oScan_mask>0))\n",
    "# plt.imshow(oScan, origin='lower')\n",
    "# plt.colorbar()\n",
    "\n",
    "# plt.figure(figsize=[20,15])\n",
    "# active_area = hdu_list[extension - 1].data[:, :550]\n",
    "# active_area_mask=sk.measure.label(active_area>=500000, connectivity=2)\n",
    "# active_area_true=ma.masked_array(active_area,mask=(active_area_mask>0))\n",
    "# plt.imshow(active_area_true, origin='lower')\n",
    "# plt.colorbar(location = 'bottom')\n",
    "\n",
    "\n",
    "\n",
    "Colors = ['b', 'r', 'b', 'r', 'b', 'r', 'b'] * 11\n",
    "\n",
    "\n",
    "Overscan = hdu_list[extension -1].data[:, 550:]\n",
    "oScan_mask=sk.measure.label(Overscan>= np.max(Overscan) - np.mean(Overscan), connectivity=2)\n",
    "oScan = ma.masked_array(Overscan, mask=(oScan_mask>0))\n",
    "\n",
    "# active_area = hdu_list[extension].data[:, :550]\n",
    "# Overscan = hdu_list[extension - 1].data[:, 550:]\n",
    "\n",
    "active_area = hdu_list[extension -1].data[:, :550]\n",
    "active_area_mask = sk.measure.label(active_area>= np.max(active_area), connectivity=2)\n",
    "data = ma.masked_array(active_area, mask=(active_area_mask>0))\n",
    "\n",
    "## build a QApplication before building other widgets\n",
    "import pyqtgraph as pg\n",
    "pg.mkQApp()\n",
    "\n",
    "## make a widget for displaying 3D objects\n",
    "import pyqtgraph.opengl as gl\n",
    "view = gl.GLViewWidget()\n",
    "view.show()\n",
    "\n",
    "## create three grids, add each to the view\n",
    "xgrid = gl.GLGridItem()\n",
    "ygrid = gl.GLGridItem()\n",
    "zgrid = gl.GLGridItem()\n",
    "view.addItem(xgrid)\n",
    "view.addItem(ygrid)\n",
    "view.addItem(zgrid)\n",
    "\n",
    "## rotate x and y grids to face the correct direction\n",
    "xgrid.rotate(90, 0, 1, 0)\n",
    "ygrid.rotate(90, 1, 0, 0)\n",
    "\n",
    "## scale each grid differently\n",
    "xgrid.scale(0.2, 0.1, 0.1)\n",
    "ygrid.scale(0.2, 0.1, 0.1)\n",
    "zgrid.scale(0.1, 0.2, 0.1)"
   ]
  }
 ],
 "metadata": {
  "kernelspec": {
   "display_name": "Python 3",
   "language": "python",
   "name": "python3"
  },
  "language_info": {
   "codemirror_mode": {
    "name": "ipython",
    "version": 3
   },
   "file_extension": ".py",
   "mimetype": "text/x-python",
   "name": "python",
   "nbconvert_exporter": "python",
   "pygments_lexer": "ipython3",
   "version": "3.10.12"
  }
 },
 "nbformat": 4,
 "nbformat_minor": 2
}
