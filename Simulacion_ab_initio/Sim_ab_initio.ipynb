{
 "cells": [
  {
   "cell_type": "code",
   "execution_count": 1,
   "metadata": {},
   "outputs": [],
   "source": [
    "import numpy as np\n",
    "import random as rand\n",
    "import pandas as pd\n",
    "import matplotlib.pyplot as plt"
   ]
  },
  {
   "cell_type": "code",
   "execution_count": 9,
   "metadata": {},
   "outputs": [],
   "source": [
    "###### Definiciones y dominios #######\n",
    "Phi = np.arange(0,2 * np.pi, 0.01)\n",
    "radio = 1000\n",
    "Theta = np.arange(0, np.pi, 0.01)\n",
    "\n",
    "def dis_probability(theta, I_0):\n",
    "    return I_0 * np.cos(theta)\n",
    "\n",
    "def dis_angular(theta):\n",
    "    return np.abs(np.cos(theta)**2 * np.sin(theta))\n",
    "\n",
    "def dis_energy(theta): ### Poner la distribución de energías en función del angulo theta\n",
    "    return False\n",
    "\n",
    "Theta_true = dis_angular(Theta) \n",
    "\n",
    "##### Coordenadas Cartesianas ######\n",
    "X = radio * np.sin(Theta_true) * np.cos(Theta_true)\n",
    "Y = radio * np.sin(Theta_true) * np.sin(Theta_true)\n",
    "Z = radio * np.cos(Theta_true)"
   ]
  },
  {
   "cell_type": "code",
   "execution_count": null,
   "metadata": {},
   "outputs": [],
   "source": [
    "th = np.random()\n"
   ]
  }
 ],
 "metadata": {
  "kernelspec": {
   "display_name": "Python 3",
   "language": "python",
   "name": "python3"
  },
  "language_info": {
   "codemirror_mode": {
    "name": "ipython",
    "version": 3
   },
   "file_extension": ".py",
   "mimetype": "text/x-python",
   "name": "python",
   "nbconvert_exporter": "python",
   "pygments_lexer": "ipython3",
   "version": "3.10.12"
  }
 },
 "nbformat": 4,
 "nbformat_minor": 2
}
