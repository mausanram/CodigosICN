{
 "cells": [
  {
   "cell_type": "code",
   "execution_count": 1,
   "metadata": {},
   "outputs": [],
   "source": [
    "import numpy as np\n",
    "import mpmath as mp\n",
    "import random as rand\n",
    "import pandas as pd\n",
    "import matplotlib.pyplot as plt\n",
    "from random_geometry_points.plane import Plane   ### PAra instalar utilizar \"pip install random-geometry-points\"\n",
    "from funciones_Sim_ab_initio import *\n",
    "from scipy.optimize import curve_fit\n",
    "import scipy.ndimage as ndimage\n",
    "import numpy.ma as ma\n",
    "\n",
    "from mpl_toolkits.mplot3d import Axes3D\n",
    "import scipy.integrate as integrate\n",
    "\n",
    "\n",
    "def Gaussian_2d(x, y, A,mu_x,mu_y,sigma_x,sigma_y):\n",
    "    G= A*np.exp(-(x-mu_x)**2/(2*sigma_x**2) - (y-mu_y)**2/(2*sigma_y**2) )\n",
    "    return np.ravel(G)\n",
    "\n",
    "def gaussian(x, mean, sigma):\n",
    "    return np.exp(-((x - mean)**2 / (2 * sigma**2)))\n",
    "\n",
    "def gaussian_norm(x, mean, sigma):\n",
    "    return ((1)/(sigma * np.sqrt(2 * np.pi))) * np.exp(-((x - mean)**2 / (2 * sigma**2)))\n"
   ]
  },
  {
   "cell_type": "code",
   "execution_count": 40,
   "metadata": {},
   "outputs": [],
   "source": [
    "plt.rcParams.update({\n",
    "    \"image.origin\": \"lower\",\n",
    "    \"image.aspect\": 1,\n",
    "    #\"text.usetex\": True,\n",
    "    \"grid.alpha\": .5,\n",
    "    \"axes.linewidth\":2,\n",
    "    \"lines.linewidth\" : 1,\n",
    "    \"font.size\":    15.0,\n",
    "    \"xaxis.labellocation\": 'right',  # alignment of the xaxis label: {left, right, center}\n",
    "    \"yaxis.labellocation\": 'top',  # alignment of the yaxis label: {bottom, top, center}\n",
    "    \"xtick.top\":           True ,  # draw ticks on the top side\n",
    "    \"xtick.major.size\":    8    ,# major tick size in points\n",
    "    \"xtick.minor.size\":    4      ,# minor tick size in points\n",
    "    \"xtick.direction\":     'in',\n",
    "    \"xtick.minor.visible\": True,\n",
    "    \"ytick.right\":           True ,  # draw ticks on the top side\n",
    "    \"ytick.major.size\":    8    ,# major tick size in points\n",
    "    \"ytick.minor.size\":    4      ,# minor tick size in points\n",
    "    \"ytick.direction\":     'in',\n",
    "    \"ytick.minor.visible\": True,\n",
    "    \"ytick.major.width\":   2   , # major tick width in points\n",
    "    \"ytick.minor.width\":   1 ,\n",
    "    \"xtick.major.width\":   2   , # major tick width in points\n",
    "    \"xtick.minor.width\":   1 ,\n",
    "    \"legend.framealpha\": 0 ,\n",
    "    \"legend.loc\": 'best',\n",
    "\n",
    "})\n",
    "\n",
    "ColorMap = 'jet'"
   ]
  },
  {
   "cell_type": "markdown",
   "metadata": {},
   "source": [
    "# Distribuciones Angulares"
   ]
  },
  {
   "cell_type": "code",
   "execution_count": 3,
   "metadata": {},
   "outputs": [],
   "source": [
    "###### Definiciones y dominios #######\n",
    "Phi = np.arange(0, 2 * np.pi, 0.001)\n",
    "Radio = 100\n",
    "Theta = np.arange(0, np.pi/2, 0.001)    ### Semi-esfera de radio 100 unidades\n",
    "\n",
    "long_a = np.arange(0, 10, 0.001)\n",
    "long_b = np.arange(0, 10, 0.001)\n",
    "\n",
    "Theta_true = dis_angular(Theta) ## Distribución angular theta real.\n",
    "\n",
    "E = np.arange(10, 100000, 1)\n"
   ]
  },
  {
   "cell_type": "code",
   "execution_count": 5,
   "metadata": {},
   "outputs": [
    {
     "ename": "ValueError",
     "evalue": "The truth value of an array with more than one element is ambiguous. Use a.any() or a.all()",
     "output_type": "error",
     "traceback": [
      "\u001b[0;31m---------------------------------------------------------------------------\u001b[0m",
      "\u001b[0;31mValueError\u001b[0m                                Traceback (most recent call last)",
      "\u001b[0;32m/tmp/ipykernel_8616/2891426353.py\u001b[0m in \u001b[0;36m<module>\u001b[0;34m\u001b[0m\n\u001b[1;32m      2\u001b[0m \u001b[0mnumber_points_per_angle\u001b[0m \u001b[0;34m=\u001b[0m \u001b[0;36m10\u001b[0m\u001b[0;34m\u001b[0m\u001b[0;34m\u001b[0m\u001b[0m\n\u001b[1;32m      3\u001b[0m \u001b[0;34m\u001b[0m\u001b[0m\n\u001b[0;32m----> 4\u001b[0;31m \u001b[0mdict_simulation\u001b[0m \u001b[0;34m=\u001b[0m \u001b[0mmuon_generator_1\u001b[0m\u001b[0;34m(\u001b[0m\u001b[0mE\u001b[0m\u001b[0;34m,\u001b[0m \u001b[0mTheta\u001b[0m\u001b[0;34m,\u001b[0m \u001b[0mTheta_true\u001b[0m\u001b[0;34m,\u001b[0m \u001b[0mPhi\u001b[0m\u001b[0;34m,\u001b[0m \u001b[0mRadio\u001b[0m\u001b[0;34m,\u001b[0m \u001b[0mlong_a\u001b[0m\u001b[0;34m,\u001b[0m \u001b[0mlong_b\u001b[0m\u001b[0;34m,\u001b[0m \u001b[0mnumber_thet\u001b[0m\u001b[0;34m,\u001b[0m \u001b[0mnumber_points_per_angle\u001b[0m\u001b[0;34m)\u001b[0m\u001b[0;34m\u001b[0m\u001b[0;34m\u001b[0m\u001b[0m\n\u001b[0m",
      "\u001b[0;32m~/Documents/Programas/Simulacion_ab_initio/funciones_Sim_ab_initio.py\u001b[0m in \u001b[0;36mmuon_generator_1\u001b[0;34m(Radio, long_a, long_b, number_thet, number_points_per_angle, Theta, Theta_true, Phi, Energy)\u001b[0m\n\u001b[1;32m    320\u001b[0m     \u001b[0mlist_random_energy\u001b[0m \u001b[0;34m=\u001b[0m \u001b[0;34m[\u001b[0m\u001b[0;34m]\u001b[0m\u001b[0;34m\u001b[0m\u001b[0;34m\u001b[0m\u001b[0m\n\u001b[1;32m    321\u001b[0m \u001b[0;34m\u001b[0m\u001b[0m\n\u001b[0;32m--> 322\u001b[0;31m     \u001b[0;32mfor\u001b[0m \u001b[0mi\u001b[0m \u001b[0;32min\u001b[0m \u001b[0mnp\u001b[0m\u001b[0;34m.\u001b[0m\u001b[0marange\u001b[0m\u001b[0;34m(\u001b[0m\u001b[0;36m0\u001b[0m\u001b[0;34m,\u001b[0m\u001b[0mnumber_thet\u001b[0m\u001b[0;34m)\u001b[0m\u001b[0;34m:\u001b[0m\u001b[0;34m\u001b[0m\u001b[0;34m\u001b[0m\u001b[0m\n\u001b[0m\u001b[1;32m    323\u001b[0m         \u001b[0mRandom_th\u001b[0m \u001b[0;34m=\u001b[0m \u001b[0mrand\u001b[0m\u001b[0;34m.\u001b[0m\u001b[0mchoices\u001b[0m\u001b[0;34m(\u001b[0m\u001b[0mTheta\u001b[0m\u001b[0;34m,\u001b[0m \u001b[0mTheta_true\u001b[0m\u001b[0;34m)\u001b[0m \u001b[0;31m## Escoje un ángulo segun la distribución de Theta_true\u001b[0m\u001b[0;34m\u001b[0m\u001b[0;34m\u001b[0m\u001b[0m\n\u001b[1;32m    324\u001b[0m         \u001b[0mRandom_phi\u001b[0m \u001b[0;34m=\u001b[0m \u001b[0mrand\u001b[0m\u001b[0;34m.\u001b[0m\u001b[0mchoice\u001b[0m\u001b[0;34m(\u001b[0m\u001b[0mPhi\u001b[0m\u001b[0;34m)\u001b[0m   \u001b[0;31m## Lo mismo pero con phi\u001b[0m\u001b[0;34m\u001b[0m\u001b[0;34m\u001b[0m\u001b[0m\n",
      "\u001b[0;31mValueError\u001b[0m: The truth value of an array with more than one element is ambiguous. Use a.any() or a.all()"
     ]
    }
   ],
   "source": [
    "number_thet = 10\n",
    "number_points_per_angle = 10\n",
    "\n",
    "dict_simulation = muon_generator_1(E, Theta, Theta_true, Phi, Radio, long_a, long_b, number_thet, number_points_per_angle)"
   ]
  },
  {
   "cell_type": "code",
   "execution_count": null,
   "metadata": {},
   "outputs": [
    {
     "name": "stdout",
     "output_type": "stream",
     "text": [
      "Keys:  dict_keys(['Theta_Radianes', 'Phi_radianes', 'list_random_a', 'list_random_b', 'Points', 'Energy_per_muon'])\n",
      " \n",
      "Len theta:  100\n",
      "Len phi:  100\n",
      "Number of simulated muons:  100\n",
      "Len list energy:  100\n"
     ]
    }
   ],
   "source": [
    "print('Keys: ', dict_simulation.keys(), end= '\\n \\n')\n",
    "print('Len theta: ', len(dict_simulation['Theta_Radianes']))\n",
    "print('Len phi: ', len(dict_simulation['Phi_radianes']))\n",
    "# print('Number of planes: ', len(dict_simulation['Points']))\n",
    "# print('Number of points per plane: ', len(dict_simulation['Points'][0]))\n",
    "print('Number of simulated muons: ', len(dict_simulation['Points']))\n",
    "print('Len list energy: ', len(dict_simulation['Energy_per_muon']))"
   ]
  },
  {
   "cell_type": "code",
   "execution_count": null,
   "metadata": {},
   "outputs": [
    {
     "data": {
      "image/png": "[encoded data removed]",
      "text/plain": [
       "<Figure size 504x360 with 1 Axes>"
      ]
     },
     "metadata": {
      "needs_background": "light"
     },
     "output_type": "display_data"
    }
   ],
   "source": [
    "random_th_array = np.array(dict_simulation['Theta_Radianes'])\n",
    "random_phi_array = np.array(dict_simulation['Phi_radianes'])\n",
    "\n",
    "fig, axs = plt.subplots(figsize=[7,5])\n",
    "\n",
    "# Theta\n",
    "axs.plot(Theta, 70 * Theta_true)\n",
    "axs.hist(random_th_array, bins = 110)\n",
    "fig.suptitle(r'Distribución angular $\\theta$', y = 0.95, size = 20)\n",
    "\n",
    "plt.show()"
   ]
  },
  {
   "cell_type": "code",
   "execution_count": null,
   "metadata": {},
   "outputs": [
    {
     "data": {
      "image/png": "[encoded data removed]",
      "text/plain": [
       "<Figure size 504x360 with 1 Axes>"
      ]
     },
     "metadata": {
      "needs_background": "light"
     },
     "output_type": "display_data"
    }
   ],
   "source": [
    "fig, axs = plt.subplots(figsize=[7,5])\n",
    "\n",
    "# Phi\n",
    "axs.hist(random_phi_array, bins = 110)\n",
    "fig.suptitle(r'Distribución angular $\\phi$', y = 0.95, size = 20)\n",
    "\n",
    "plt.show()"
   ]
  },
  {
   "cell_type": "code",
   "execution_count": null,
   "metadata": {},
   "outputs": [
    {
     "data": {
      "image/png": "[encoded data removed]",
      "text/plain": [
       "<Figure size 504x360 with 2 Axes>"
      ]
     },
     "metadata": {
      "needs_background": "light"
     },
     "output_type": "display_data"
    }
   ],
   "source": [
    "fig, axs = plt.subplots(ncols=2, nrows=1, figsize=[7,5])\n",
    "\n",
    "# Parameter a\n",
    "axs[0].hist(dict_simulation['list_random_a'], bins = 110)\n",
    "axs[1].hist(dict_simulation['list_random_b'], bins = 110)\n",
    "\n",
    "fig.suptitle(r'Distribución de los parámetros $a$ y $b$', y = 0.95, size = 20)\n",
    "\n",
    "plt.show()"
   ]
  },
  {
   "cell_type": "code",
   "execution_count": null,
   "metadata": {},
   "outputs": [
    {
     "data": {
      "text/html": [
       "<div>\n",
       "<style scoped>\n",
       "    .dataframe tbody tr th:only-of-type {\n",
       "        vertical-align: middle;\n",
       "    }\n",
       "\n",
       "    .dataframe tbody tr th {\n",
       "        vertical-align: top;\n",
       "    }\n",
       "\n",
       "    .dataframe thead th {\n",
       "        text-align: right;\n",
       "    }\n",
       "</style>\n",
       "<table border=\"1\" class=\"dataframe\">\n",
       "  <thead>\n",
       "    <tr style=\"text-align: right;\">\n",
       "      <th></th>\n",
       "      <th>Theta_Radianes</th>\n",
       "      <th>Phi_radianes</th>\n",
       "      <th>list_random_a</th>\n",
       "      <th>list_random_b</th>\n",
       "      <th>Points</th>\n",
       "      <th>Energy_per_muon</th>\n",
       "    </tr>\n",
       "  </thead>\n",
       "  <tbody>\n",
       "    <tr>\n",
       "      <th>0</th>\n",
       "      <td>0.862</td>\n",
       "      <td>0.395</td>\n",
       "      <td>8.511</td>\n",
       "      <td>8.577</td>\n",
       "      <td>[[71.88179426510474], [39.26092951867753], [71...</td>\n",
       "      <td>5893</td>\n",
       "    </tr>\n",
       "    <tr>\n",
       "      <th>1</th>\n",
       "      <td>0.862</td>\n",
       "      <td>0.395</td>\n",
       "      <td>6.959</td>\n",
       "      <td>7.747</td>\n",
       "      <td>[[71.26874754985903], [38.10609813868854], [70...</td>\n",
       "      <td>7489</td>\n",
       "    </tr>\n",
       "    <tr>\n",
       "      <th>2</th>\n",
       "      <td>0.862</td>\n",
       "      <td>0.395</td>\n",
       "      <td>9.545</td>\n",
       "      <td>0.111</td>\n",
       "      <td>[[75.76080486794909], [31.705836439470673], [7...</td>\n",
       "      <td>16407</td>\n",
       "    </tr>\n",
       "    <tr>\n",
       "      <th>3</th>\n",
       "      <td>0.862</td>\n",
       "      <td>0.395</td>\n",
       "      <td>4.630</td>\n",
       "      <td>5.606</td>\n",
       "      <td>[[70.69336481679667], [35.54659566750506], [68...</td>\n",
       "      <td>1601</td>\n",
       "    </tr>\n",
       "    <tr>\n",
       "      <th>4</th>\n",
       "      <td>0.862</td>\n",
       "      <td>0.395</td>\n",
       "      <td>9.852</td>\n",
       "      <td>1.690</td>\n",
       "      <td>[[75.33763752916795], [33.24014523050935], [72...</td>\n",
       "      <td>12205</td>\n",
       "    </tr>\n",
       "    <tr>\n",
       "      <th>...</th>\n",
       "      <td>...</td>\n",
       "      <td>...</td>\n",
       "      <td>...</td>\n",
       "      <td>...</td>\n",
       "      <td>...</td>\n",
       "      <td>...</td>\n",
       "    </tr>\n",
       "    <tr>\n",
       "      <th>95</th>\n",
       "      <td>1.029</td>\n",
       "      <td>1.883</td>\n",
       "      <td>9.379</td>\n",
       "      <td>8.481</td>\n",
       "      <td>[[-35.87326177015569], [83.53432389285088], [5...</td>\n",
       "      <td>786</td>\n",
       "    </tr>\n",
       "    <tr>\n",
       "      <th>96</th>\n",
       "      <td>1.029</td>\n",
       "      <td>1.883</td>\n",
       "      <td>2.833</td>\n",
       "      <td>6.767</td>\n",
       "      <td>[[-33.205276251895214], [80.84835637059535], [...</td>\n",
       "      <td>7866</td>\n",
       "    </tr>\n",
       "    <tr>\n",
       "      <th>97</th>\n",
       "      <td>1.029</td>\n",
       "      <td>1.883</td>\n",
       "      <td>7.798</td>\n",
       "      <td>0.970</td>\n",
       "      <td>[[-28.47493128598611], [85.06550459968129], [5...</td>\n",
       "      <td>6477</td>\n",
       "    </tr>\n",
       "    <tr>\n",
       "      <th>98</th>\n",
       "      <td>1.029</td>\n",
       "      <td>1.883</td>\n",
       "      <td>7.258</td>\n",
       "      <td>0.159</td>\n",
       "      <td>[[-27.617603494602168], [85.04960483676852], [...</td>\n",
       "      <td>5357</td>\n",
       "    </tr>\n",
       "    <tr>\n",
       "      <th>99</th>\n",
       "      <td>1.029</td>\n",
       "      <td>1.883</td>\n",
       "      <td>6.635</td>\n",
       "      <td>3.489</td>\n",
       "      <td>[[-30.68794902082797], [83.72103784863248], [5...</td>\n",
       "      <td>2988</td>\n",
       "    </tr>\n",
       "  </tbody>\n",
       "</table>\n",
       "<p>100 rows × 6 columns</p>\n",
       "</div>"
      ],
      "text/plain": [
       "    Theta_Radianes  Phi_radianes  list_random_a  list_random_b  \\\n",
       "0            0.862         0.395          8.511          8.577   \n",
       "1            0.862         0.395          6.959          7.747   \n",
       "2            0.862         0.395          9.545          0.111   \n",
       "3            0.862         0.395          4.630          5.606   \n",
       "4            0.862         0.395          9.852          1.690   \n",
       "..             ...           ...            ...            ...   \n",
       "95           1.029         1.883          9.379          8.481   \n",
       "96           1.029         1.883          2.833          6.767   \n",
       "97           1.029         1.883          7.798          0.970   \n",
       "98           1.029         1.883          7.258          0.159   \n",
       "99           1.029         1.883          6.635          3.489   \n",
       "\n",
       "                                               Points  Energy_per_muon  \n",
       "0   [[71.88179426510474], [39.26092951867753], [71...             5893  \n",
       "1   [[71.26874754985903], [38.10609813868854], [70...             7489  \n",
       "2   [[75.76080486794909], [31.705836439470673], [7...            16407  \n",
       "3   [[70.69336481679667], [35.54659566750506], [68...             1601  \n",
       "4   [[75.33763752916795], [33.24014523050935], [72...            12205  \n",
       "..                                                ...              ...  \n",
       "95  [[-35.87326177015569], [83.53432389285088], [5...              786  \n",
       "96  [[-33.205276251895214], [80.84835637059535], [...             7866  \n",
       "97  [[-28.47493128598611], [85.06550459968129], [5...             6477  \n",
       "98  [[-27.617603494602168], [85.04960483676852], [...             5357  \n",
       "99  [[-30.68794902082797], [83.72103784863248], [5...             2988  \n",
       "\n",
       "[100 rows x 6 columns]"
      ]
     },
     "execution_count": 15,
     "metadata": {},
     "output_type": "execute_result"
    }
   ],
   "source": [
    "dF_dict = pd.DataFrame(dict_simulation)\n",
    "dF_dict"
   ]
  },
  {
   "cell_type": "code",
   "execution_count": null,
   "metadata": {},
   "outputs": [
    {
     "name": "stderr",
     "output_type": "stream",
     "text": [
      "/tmp/ipykernel_5215/715259870.py:4: MatplotlibDeprecationWarning: Axes3D(fig) adding itself to the figure is deprecated since 3.4. Pass the keyword argument auto_add_to_figure=False and use fig.add_axes(ax) to suppress this warning. The default value of auto_add_to_figure will change to False in mpl3.5 and True values will no longer work in 3.6.  This is consistent with other Axes classes.\n",
      "  Ax = Axes3D(fig)\n"
     ]
    },
    {
     "data": {
      "image/png": "[encoded data removed]",
      "text/plain": [
       "<Figure size 432x288 with 2 Axes>"
      ]
     },
     "metadata": {
      "needs_background": "light"
     },
     "output_type": "display_data"
    }
   ],
   "source": [
    "fig = plt.figure()\n",
    "# Creamos el plano 3D\n",
    "ax1 = fig.add_subplot(111, projection='3d')\n",
    "Ax = Axes3D(fig)\n",
    "\n",
    "theta = np.arange(0, 2 * np.pi, 0.01)\n",
    "phi = np.arange(0, np.pi/2, 0.01)\n",
    "theta, phi = np.meshgrid(theta, phi)\n",
    "\n",
    "# Definimos los datos de prueba\n",
    "for i in np.arange(0, len(list_points_per_plane[0])):\n",
    "    x = list_points_per_plane[0][i][0]\n",
    "    y = list_points_per_plane[0][i][1]\n",
    "    z = list_points_per_plane[0][i][2]\n",
    "    # print(list_points_per_plane[0][i][0])\n",
    "    Ax.scatter(x, y, z, c='k', marker='o')\n",
    "\n",
    "x_s = Radio * np.sin(phi) * np.cos(theta)\n",
    "y_s = Radio * np.sin(phi) * np.sin(theta)\n",
    "z_s = Radio * np.cos(phi)\n",
    "\n",
    "# Agregamos los puntos en el plano 3D\n",
    "\n",
    "ax1.plot_surface(x_s, y_s, z_s)\n",
    "\n",
    "# Mostramos el gráfico\n",
    "plt.show()\n"
   ]
  },
  {
   "cell_type": "code",
   "execution_count": null,
   "metadata": {},
   "outputs": [
    {
     "name": "stdout",
     "output_type": "stream",
     "text": [
      "Coordenadas de un punto:  [[(-66.42468627239163, -16.451798687867427, 73.45785154906528)], [(-60.26630990950633, -22.35271884742817, 76.61053175295828)], [(-61.68762406581528, -21.55358526376747, 75.72545104421212)], [(-61.74934936275447, -27.336396882366863, 74.05925657239479)], [(-59.44342574778086, -20.70782071178821, 77.71266042453823)], [(-59.845698349353256, -20.573250075700198, 77.43652534203726)], [(-60.67166564300068, -16.580076239570566, 77.90953949669833)], [(-58.135708277609226, -15.808206513270916, 80.10365633511542)], [(-67.33165514832618, -17.747886073285134, 72.38773171411975)], [(-57.25493781017444, -24.015363743479888, 78.49430683936394)]]\n"
     ]
    },
    {
     "data": {
      "text/plain": [
       "<matplotlib.collections.PathCollection at 0x7fd6114d5720>"
      ]
     },
     "execution_count": 5,
     "metadata": {},
     "output_type": "execute_result"
    },
    {
     "data": {
      "image/png": "[encoded data removed]",
      "text/plain": [
       "<Figure size 432x288 with 1 Axes>"
      ]
     },
     "metadata": {
      "needs_background": "light"
     },
     "output_type": "display_data"
    }
   ],
   "source": [
    "print('Coordenadas de un punto: ', list_points_per_plane[0])\n",
    "plt.scatter(list_random_plane_point[0], list_random_plane_point[1])"
   ]
  },
  {
   "cell_type": "code",
   "execution_count": 7,
   "metadata": {},
   "outputs": [
    {
     "data": {
      "image/png": "[encoded data removed]",
      "text/plain": [
       "<Figure size 432x288 with 1 Axes>"
      ]
     },
     "metadata": {
      "needs_background": "light"
     },
     "output_type": "display_data"
    }
   ],
   "source": [
    "# print(Random_th[0])\n",
    "E = np.arange(10, 100000, 1)\n",
    "Thet = [0.0174533, 0.523599, 0.785398, 1.309]     ## En radianes\n",
    "Ang = [0, 30, 45, 75]\n",
    "\n",
    "for element in np.arange(0, len(Thet)):\n",
    "# for element in np.arange(0, 1):\n",
    "    Energy = dis_energy(E, Thet[element])\n",
    "    # print(Energy)\n",
    "    plt.plot(E, Energy, label = str(Ang[element]) + '°')\n",
    "\n",
    "plt.xlabel('Energy (MeV)')   \n",
    "plt.grid() \n",
    "plt.xscale('log')\n",
    "plt.yscale('log')\n",
    "plt.title('Distribuciónes de Smith-Duller')\n",
    "plt.legend()\n",
    "\n",
    "del Energy \n",
    "del E"
   ]
  },
  {
   "cell_type": "code",
   "execution_count": 8,
   "metadata": {},
   "outputs": [
    {
     "data": {
      "text/plain": [
       "'Ángulos en radianes: '"
      ]
     },
     "metadata": {},
     "output_type": "display_data"
    },
    {
     "data": {
      "text/plain": [
       "[0.00017453292519943296,\n",
       " 0.08726646259971647,\n",
       " 0.17453292519943295,\n",
       " 0.2617993877991494,\n",
       " 0.3490658503988659,\n",
       " 0.4363323129985824,\n",
       " 0.5235987755982988,\n",
       " 0.6108652381980153,\n",
       " 0.6981317007977318,\n",
       " 0.7853981633974483,\n",
       " 0.8726646259971648,\n",
       " 0.9599310885968813,\n",
       " 1.0471975511965976,\n",
       " 1.1344640137963142,\n",
       " 1.2217304763960306,\n",
       " 1.3089969389957472,\n",
       " 1.4835298641951802,\n",
       " 1.5707963267948966]"
      ]
     },
     "metadata": {},
     "output_type": "display_data"
    },
    {
     "name": "stdout",
     "output_type": "stream",
     "text": [
      "0.9999999999999998\n"
     ]
    },
    {
     "name": "stderr",
     "output_type": "stream",
     "text": [
      "/tmp/ipykernel_8616/2912908179.py:27: IntegrationWarning: The integral is probably divergent, or slowly convergent.\n",
      "  res = integrate.quad(dis_energy, a = 0, b = np.inf, args = np.radians(80))\n"
     ]
    }
   ],
   "source": [
    "Energy = Energy_list(10**(-1), 10**(5), 1000)\n",
    "# Thet = [0.00174533, 0.785398, 1.309]\n",
    "Ang = [0.01, 5, 10, 15, 20, 25, 30, 35, 40, 45, 50, 55, 60, 65, 70, 75, 85, 90]\n",
    "Ang_array = np.arange(0, 90, 1)\n",
    "Thet = []\n",
    "Thet_array = []\n",
    "list_results = []\n",
    "\n",
    "for ang in Ang:\n",
    "    rad = np.radians(ang)\n",
    "    Thet.append(rad)\n",
    "\n",
    "for ang in Ang_array:\n",
    "    rad = np.radians(ang)\n",
    "    Thet_array.append(rad)\n",
    "\n",
    "display('Ángulos en radianes: ', Thet)\n",
    "# Thet = 0.5\n",
    "\n",
    "for angle in Thet: \n",
    "    result = integrate.quad(dis_energy, a = 0, b = np.inf, args = angle)\n",
    "    list_results.append(result[0]/ (3.52877403746463 *  10**(-5) ))\n",
    "    del result\n",
    "\n",
    "print(list_results[0])\n",
    "\n",
    "res = integrate.quad(dis_energy, a = 0, b = np.inf, args = np.radians(80))\n",
    "Res = res[0] / (3.52877403746463 *  10**(-5) )\n",
    "Real = np.cos(np.radians(80))**2"
   ]
  },
  {
   "cell_type": "code",
   "execution_count": 9,
   "metadata": {},
   "outputs": [
    {
     "data": {
      "image/png": "[encoded data removed]",
      "text/plain": [
       "<Figure size 720x720 with 1 Axes>"
      ]
     },
     "metadata": {
      "needs_background": "light"
     },
     "output_type": "display_data"
    }
   ],
   "source": [
    "fig, axs = plt.subplots(figsize = [10, 10])\n",
    "axs.plot(Ang, list_results, 'ob' )\n",
    "axs.plot(80, Real - Res, 'ob')\n",
    "axs.plot(Ang_array, np.cos(Thet_array)**2, 'k')\n",
    "axs.set_xlabel('Ángulo (°)', size = 18)\n",
    "axs.set_ylabel('I / I_0', size = 18)\n",
    "axs.grid()"
   ]
  },
  {
   "cell_type": "code",
   "execution_count": null,
   "metadata": {},
   "outputs": [
    {
     "name": "stdout",
     "output_type": "stream",
     "text": [
      "Valor numérico en 80°:  7.43224205349314e-05\n",
      "Valor real:  0.03015368960704583\n",
      "0.0300793671865109\n"
     ]
    },
    {
     "name": "stderr",
     "output_type": "stream",
     "text": [
      "/tmp/ipykernel_13250/3165140647.py:1: IntegrationWarning: The integral is probably divergent, or slowly convergent.\n",
      "  res = integrate.quad(dis_energy, a = 0, b = np.inf, args = np.radians(80))\n"
     ]
    }
   ],
   "source": [
    "res = integrate.quad(dis_energy, a = 0, b = np.inf, args = np.radians(80))\n",
    "Res = res[0] / (3.52877403746463 *  10**(-5) )\n",
    "Real = np.cos(np.radians(80))**2\n",
    "print('Valor numérico en 80°: ', Res)\n",
    "print('Valor real: ', Real)\n",
    "print(Real - Res)"
   ]
  },
  {
   "cell_type": "markdown",
   "metadata": {},
   "source": [
    "# Deffuse Model"
   ]
  },
  {
   "cell_type": "code",
   "execution_count": 2,
   "metadata": {},
   "outputs": [],
   "source": [
    "def diffution_curve(z, alpha, beta):\n",
    "    return np.sqrt(np.abs(alpha * np.log(1 - (beta * z))))"
   ]
  },
  {
   "cell_type": "code",
   "execution_count": 3,
   "metadata": {},
   "outputs": [
    {
     "name": "stdout",
     "output_type": "stream",
     "text": [
      "Profundidad de la CCD:  725  micras, o  48.333  píxeles\n",
      "Profundidad del muon:  725  micras, o  48.333333333333336  píxeles\n",
      "La energía depositada es:  50000.0  e-\n",
      "\n",
      "La longitud XY de la traza es:  999.637  micras, o  66.642  píxeles\n",
      "La lista que relaciona XY con profundiad tiene longitud:  67\n",
      "Longitud de la lista de profundidad:  96\n"
     ]
    }
   ],
   "source": [
    "dict_diffuse = {'Alpha' : 7.964, 'Beta' : 2.379 * 10**(-4)}  \n",
    "\n",
    "### ------------------ PArámetros extra para dibujar la trza ----------------- ###\n",
    "CCD_deep = 725 # micras\n",
    "muon_deep = 725 # micras\n",
    "muon_deep_px = muon_deep/15\n",
    "\n",
    "CCD_deep_px = CCD_deep / 15 # px\n",
    "ratio_eV_electron = 1 / 3.7 # e-/eV\n",
    "\n",
    "print('Profundidad de la CCD: ', CCD_deep, ' micras, o ', np.around(CCD_deep_px, 3), ' píxeles')\n",
    "print('Profundidad del muon: ', muon_deep, ' micras, o ', muon_deep_px, ' píxeles')\n",
    "\n",
    "Energy_DP = 185 #keV\n",
    "Energy_DP_eV = Energy_DP * 10**(3) # eV\n",
    "electrons = Energy_DP_eV * ratio_eV_electron\n",
    "ang_theta = 45 # Grados\n",
    "ang_theta_rad = np.radians(ang_theta)\n",
    "delta_L = 1000 # micras \n",
    "\n",
    "delta_XY = np.sqrt(delta_L**2 - muon_deep )\n",
    "delta_XY_px = delta_XY / 15\n",
    "# print(np.around(delta_XY_px, 0))\n",
    "\n",
    "print('La energía depositada es: ', np.around(electrons, 3), ' e-', end= '\\n\\n')\n",
    "print('La longitud XY de la traza es: ', np.around(delta_XY, 3), r' micras, o ', np.around(delta_XY/15, 3), ' píxeles')\n",
    "\n",
    "\n",
    "list_XY_deep = np.linspace(0, muon_deep_px, int(np.around(delta_XY_px, 0)))\n",
    "print('La lista que relaciona XY con profundiad tiene longitud: ', len(list_XY_deep))\n",
    "# print(list_XY_deep * 15)\n",
    "\n",
    "### --------------------------------------------------------------------------- ###\n",
    "\n",
    "\n",
    "# print('Profundad de la CCD: ', CCD_deep, ' micras')\n",
    "# print('Profundad de la CCD: ', np.around(CCD_deep_px, 1), ' píxeles')\n",
    "\n",
    "Alpha = dict_diffuse['Alpha']\n",
    "Beta = dict_diffuse['Beta']\n",
    "\n",
    "# print(Alpha, Beta)\n",
    "z_deeps = np.arange(7.5, CCD_deep, 7.5) # micras\n",
    "# z_depps_px = np.arange(0.5, np.around(CCD_deep_px, 1), 1)\n",
    "\n",
    "# print(z_depps_px)\n",
    "print('Longitud de la lista de profundidad: ', len(z_deeps))#, len(z_depps_px))"
   ]
  },
  {
   "cell_type": "code",
   "execution_count": 5,
   "metadata": {},
   "outputs": [
    {
     "data": {
      "image/png": "[encoded data removed]",
      "text/plain": [
       "<Figure size 936x504 with 1 Axes>"
      ]
     },
     "metadata": {
      "needs_background": "light"
     },
     "output_type": "display_data"
    },
    {
     "name": "stdout",
     "output_type": "stream",
     "text": [
      "La anchura máxima de la traza es:  5\n"
     ]
    }
   ],
   "source": [
    "sigma_values = diffution_curve(list_XY_deep * 15, Alpha, Beta) # micras\n",
    "# print(len(sigma_values))\n",
    "# print(len(sigma_values))\n",
    "\n",
    "fi, axs = plt.subplots(figsize = [13, 7])\n",
    "axs.plot(list_XY_deep, sigma_values, 'o')\n",
    "plt.show()\n",
    "\n",
    "anchura_max = int(np.around(sigma_values[-1] * 4 , 0))\n",
    "print('La anchura máxima de la traza es: ', anchura_max)"
   ]
  },
  {
   "cell_type": "code",
   "execution_count": 6,
   "metadata": {},
   "outputs": [
    {
     "name": "stdout",
     "output_type": "stream",
     "text": [
      "A cada linea de la traza le corresponde de energía  750.272  e-\n",
      "750\n"
     ]
    }
   ],
   "source": [
    "charge_per_line = electrons / delta_XY_px\n",
    "print('A cada linea de la traza le corresponde de energía ', np.around(charge_per_line, 3), ' e-')\n",
    "print(int(charge_per_line))"
   ]
  },
  {
   "cell_type": "markdown",
   "metadata": {},
   "source": [
    "### Muon suavizado"
   ]
  },
  {
   "cell_type": "code",
   "execution_count": 41,
   "metadata": {},
   "outputs": [
    {
     "data": {
      "text/plain": [
       "<matplotlib.colorbar.Colorbar at 0x76b4ffb91690>"
      ]
     },
     "execution_count": 41,
     "metadata": {},
     "output_type": "execute_result"
    },
    {
     "data": {
      "image/png": "[encoded data removed]",
      "text/plain": [
       "<Figure size 1296x864 with 2 Axes>"
      ]
     },
     "metadata": {
      "needs_background": "light"
     },
     "output_type": "display_data"
    }
   ],
   "source": [
    "list_gaussians = []\n",
    "for index in  np.arange(1, len(list_XY_deep)):\n",
    "    i,j =np.indices([anchura_max, anchura_max + 2])\n",
    "    center = np.array([(i.max()-i.min())/2.0,(j.max()-j.min())/2.0])\n",
    "\n",
    "    xc = center[1]\n",
    "    yc = center[0]\n",
    "\n",
    "    r = np.hypot(i-yc,j-xc)\n",
    "\n",
    "    s = sigma_values[index]\n",
    "    Gaussian = ((charge_per_line/4)/(s * np.sqrt(2 * np.pi))) * np.exp(-r**2/(2 * s**2))\n",
    "    # print(Gaussian)\n",
    "\n",
    "    list_gaussians.append(Gaussian)\n",
    "\n",
    "# print(list_gaussians)\n",
    "fig = plt.figure(figsize=(18,12))\n",
    "# plt.imshow(Gaussian)\n",
    "plt.imshow(list_gaussians[20], cmap= ColorMap)\n",
    "plt.colorbar()"
   ]
  },
  {
   "cell_type": "code",
   "execution_count": 42,
   "metadata": {},
   "outputs": [
    {
     "data": {
      "image/png": "[encoded data removed]",
      "text/plain": [
       "<Figure size 576x936 with 1 Axes>"
      ]
     },
     "metadata": {
      "needs_background": "light"
     },
     "output_type": "display_data"
    }
   ],
   "source": [
    "# type(Gaussian_2\n",
    "list_image_muon = [ ]\n",
    "\n",
    "initial_row = [[0, 0,  0,  0,  0, 0, 0]]\n",
    "list_image_muon.append(initial_row)\n",
    "\n",
    "for index in np.arange(0, len(list_gaussians)):\n",
    "    rows_gauss = np.vsplit(list_gaussians[index],5)\n",
    "    # rows_gauss_2 = np.vsplit(list_gaussians[1],5)\n",
    "    # rows_gauss_3 = np.vsplit(list_gaussians[2],5)\n",
    "    # rows_gauss_4 = np.vsplit(list_gaussians[3],5)\n",
    "    # print(rows_gauss[2])\n",
    "    if index == 0:\n",
    "        rows_gauss_next = np.vsplit(list_gaussians[index + 1],5)\n",
    "\n",
    "        list_image_muon.append(rows_gauss[2] + rows_gauss_next[1])\n",
    "        contribution_1 = rows_gauss[3]\n",
    "        contribution_2 = rows_gauss[4]\n",
    "\n",
    "    elif index == 1:\n",
    "        list_image_muon.append(rows_gauss[2] + contribution_1)\n",
    "        contribution_1 = rows_gauss[3] + contribution_2\n",
    "        contribution_2 = rows_gauss[4]\n",
    "\n",
    "    elif 1 < index < len(list_gaussians) - 1:\n",
    "        list_image_muon.append(rows_gauss[2] + contribution_1 + contribution_2)\n",
    "        contribution_1 = rows_gauss[3] + contribution_2\n",
    "        contribution_2 = rows_gauss[4]\n",
    "\n",
    "    elif index == len(list_gaussians) - 1 :\n",
    "        list_image_muon.append(rows_gauss[2] + contribution_1 + contribution_2)\n",
    "        list_image_muon.append(rows_gauss[3] + contribution_2)\n",
    "        list_image_muon.append(rows_gauss[4])\n",
    "        # list_image_muon.append(rows_gauss[5])\n",
    "\n",
    "final_row = [[0, 0,  0,  0,  0, 0, 0]]\n",
    "list_image_muon.append(final_row)\n",
    "\n",
    "# print(list_image_muon[1])\n",
    "imagen = np.concatenate(list_image_muon, axis = 0)\n",
    "# Zeros = np.zeros([int(np.around(delta_XY_px,0)), anchura_max])\n",
    "# print(Zeros.shape)\n",
    "# x, y = np.meshgrid(i, j)\n",
    "# plt.imshow(Zeros)\n",
    "# imagen = np.concatenate((Gaussian_1, Gaussian_2), axis = 0)\n",
    "\n",
    "fig, axs = plt.subplots(figsize=[8, 13])\n",
    "x1 = axs.imshow(imagen, vmin=0, vmax=charge_per_line/10, origin= 'lower', cmap= ColorMap)\n",
    "# fig.colorbar(x1)\n",
    "plt.show()"
   ]
  },
  {
   "cell_type": "markdown",
   "metadata": {},
   "source": [
    "### Muon no suavizado (von Neumann)"
   ]
  },
  {
   "cell_type": "code",
   "execution_count": 33,
   "metadata": {},
   "outputs": [
    {
     "name": "stdout",
     "output_type": "stream",
     "text": [
      "5\n",
      "Center:  3.0 3.0\n",
      "1.227899169639873\n"
     ]
    }
   ],
   "source": [
    "# x = np.arange(-10, 10, 0.5)\n",
    "# y = [-5, 5]\n",
    "print(anchura_max)\n",
    "\n",
    "i,j = np.indices([anchura_max + 2, anchura_max + 2])\n",
    "# print(i)\n",
    "# print(j)\n",
    "\n",
    "\n",
    "center = np.array([(i.max()-i.min())/2.0,(j.max()-j.min())/2.0])\n",
    "xc = center[1]\n",
    "yc = center[0]\n",
    "\n",
    "r = np.hypot(i-yc,j-xc)\n",
    "\n",
    "x_side = np.arange(i[0][0], i[-1][0], 1)\n",
    "y_side = np.arange(j[0][0], j[0][-1], 1)\n",
    "z_side = np.arange(0, 1, 0.01)\n",
    "\n",
    "# print(x_side)\n",
    "# print(y_side)\n",
    "# dis_gaussian_1D = gaussian(x_c, r, 1.4)\n",
    "# dis_gaussian_1D = np.exp(-r**2/(2 * sigma**2))\n",
    "list_pixels_matrix = []\n",
    "dict_pix = {}\n",
    "n_array = 0\n",
    "\n",
    "for index in np.arange(1, len(sigma_values)):\n",
    "    # list_x_true = []\n",
    "    # list_y_true = []\n",
    "    pixels_array = np.zeros(shape = (anchura_max + 2, anchura_max + 2)) \n",
    "\n",
    "    sigma = sigma_values[index]\n",
    "    # print(sigma)\n",
    "\n",
    "    dis_gaussian_1D_x = gaussian(x_side, xc, sigma)\n",
    "    dis_gaussian_1D_y = gaussian(y_side, yc, sigma)\n",
    "    # dis_gaussian_1D_z = gaussian(z_side, 5, sigma)\n",
    "    # print(dis)\n",
    "    n = 0\n",
    "    while n < int(charge_per_line):\n",
    "        # print(dis_gaussian_1D)\n",
    "        n = n + 1\n",
    "\n",
    "        # dis_gaussian_1D = np.exp(-r**2/(2 * sigma**2))\n",
    "        Random_x = rand.choices(x_side, dis_gaussian_1D_x) \n",
    "        Random_y = rand.choices(y_side, dis_gaussian_1D_y) \n",
    "        # print(Random_x, Random_y)\n",
    "\n",
    "        pixels_array[Random_x[0]][Random_y[0]] =  pixels_array[Random_x[0]][Random_y[0]] + 1\n",
    "\n",
    "        # list_x_true.append(Random_x[0])\n",
    "        # list_y_true.append(Random_y[0])\n",
    "    \n",
    "        # list_x_true.append(dis_gaussian_1D)\n",
    "    \n",
    "    # list_pixels_matrix.append(pixels_array)\n",
    "    dict_pix[str(n_array)] = pixels_array\n",
    "    n_array = n_array + 1\n",
    "\n",
    "    \n",
    "\n",
    "print('Center: ', xc, yc)\n",
    "print(sigma)\n"
   ]
  },
  {
   "cell_type": "code",
   "execution_count": 56,
   "metadata": {},
   "outputs": [
    {
     "name": "stdout",
     "output_type": "stream",
     "text": [
      "5\n",
      "[0. 3.]\n"
     ]
    },
    {
     "ename": "IndexError",
     "evalue": "list index out of range",
     "output_type": "error",
     "traceback": [
      "\u001b[0;31m---------------------------------------------------------------------------\u001b[0m",
      "\u001b[0;31mIndexError\u001b[0m                                Traceback (most recent call last)",
      "\u001b[0;32m/tmp/ipykernel_4565/553882326.py\u001b[0m in \u001b[0;36m<module>\u001b[0;34m\u001b[0m\n\u001b[1;32m     45\u001b[0m \u001b[0;34m\u001b[0m\u001b[0m\n\u001b[1;32m     46\u001b[0m         \u001b[0;31m# dis_gaussian_1D = np.exp(-r**2/(2 * sigma**2))\u001b[0m\u001b[0;34m\u001b[0m\u001b[0;34m\u001b[0m\u001b[0m\n\u001b[0;32m---> 47\u001b[0;31m         \u001b[0mRandom_x\u001b[0m \u001b[0;34m=\u001b[0m \u001b[0mrand\u001b[0m\u001b[0;34m.\u001b[0m\u001b[0mchoices\u001b[0m\u001b[0;34m(\u001b[0m\u001b[0mx_side\u001b[0m\u001b[0;34m,\u001b[0m \u001b[0mdis_gaussian_1D_x\u001b[0m\u001b[0;34m)\u001b[0m\u001b[0;34m\u001b[0m\u001b[0;34m\u001b[0m\u001b[0m\n\u001b[0m\u001b[1;32m     48\u001b[0m         \u001b[0mRandom_y\u001b[0m \u001b[0;34m=\u001b[0m \u001b[0mrand\u001b[0m\u001b[0;34m.\u001b[0m\u001b[0mchoices\u001b[0m\u001b[0;34m(\u001b[0m\u001b[0my_side\u001b[0m\u001b[0;34m,\u001b[0m \u001b[0mdis_gaussian_1D_y\u001b[0m\u001b[0;34m)\u001b[0m\u001b[0;34m\u001b[0m\u001b[0;34m\u001b[0m\u001b[0m\n\u001b[1;32m     49\u001b[0m         \u001b[0;31m# print(Random_x, Random_y)\u001b[0m\u001b[0;34m\u001b[0m\u001b[0;34m\u001b[0m\u001b[0m\n",
      "\u001b[0;32m/usr/lib/python3.10/random.py\u001b[0m in \u001b[0;36mchoices\u001b[0;34m(self, population, weights, cum_weights, k)\u001b[0m\n\u001b[1;32m    531\u001b[0m         \u001b[0;32mif\u001b[0m \u001b[0mlen\u001b[0m\u001b[0;34m(\u001b[0m\u001b[0mcum_weights\u001b[0m\u001b[0;34m)\u001b[0m \u001b[0;34m!=\u001b[0m \u001b[0mn\u001b[0m\u001b[0;34m:\u001b[0m\u001b[0;34m\u001b[0m\u001b[0;34m\u001b[0m\u001b[0m\n\u001b[1;32m    532\u001b[0m             \u001b[0;32mraise\u001b[0m \u001b[0mValueError\u001b[0m\u001b[0;34m(\u001b[0m\u001b[0;34m'The number of weights does not match the population'\u001b[0m\u001b[0;34m)\u001b[0m\u001b[0;34m\u001b[0m\u001b[0;34m\u001b[0m\u001b[0m\n\u001b[0;32m--> 533\u001b[0;31m         \u001b[0mtotal\u001b[0m \u001b[0;34m=\u001b[0m \u001b[0mcum_weights\u001b[0m\u001b[0;34m[\u001b[0m\u001b[0;34m-\u001b[0m\u001b[0;36m1\u001b[0m\u001b[0;34m]\u001b[0m \u001b[0;34m+\u001b[0m \u001b[0;36m0.0\u001b[0m   \u001b[0;31m# convert to float\u001b[0m\u001b[0;34m\u001b[0m\u001b[0;34m\u001b[0m\u001b[0m\n\u001b[0m\u001b[1;32m    534\u001b[0m         \u001b[0;32mif\u001b[0m \u001b[0mtotal\u001b[0m \u001b[0;34m<=\u001b[0m \u001b[0;36m0.0\u001b[0m\u001b[0;34m:\u001b[0m\u001b[0;34m\u001b[0m\u001b[0;34m\u001b[0m\u001b[0m\n\u001b[1;32m    535\u001b[0m             \u001b[0;32mraise\u001b[0m \u001b[0mValueError\u001b[0m\u001b[0;34m(\u001b[0m\u001b[0;34m'Total of weights must be greater than zero'\u001b[0m\u001b[0;34m)\u001b[0m\u001b[0;34m\u001b[0m\u001b[0;34m\u001b[0m\u001b[0m\n",
      "\u001b[0;31mIndexError\u001b[0m: list index out of range"
     ]
    }
   ],
   "source": [
    "# x = np.arange(-10, 10, 0.5)\n",
    "# y = [-5, 5]\n",
    "print(anchura_max)\n",
    "\n",
    "i,j = np.indices([1, anchura_max + 2])\n",
    "# print(i)\n",
    "# print(j)\n",
    "\n",
    "\n",
    "center = np.array([(i.max()-i.min())/2.0,(j.max()-j.min())/2.0])\n",
    "xc = center[1]\n",
    "yc = center[0]\n",
    "print(center)\n",
    "\n",
    "r = np.hypot(i-yc,j-xc)\n",
    "\n",
    "# x_side = np.arange(i[0][0], i[-1][0], 1)\n",
    "y_side = np.arange(j[0][0], j[0][-1], 1)\n",
    "# z_side = np.arange(0, 1, 0.01)\n",
    "\n",
    "# print(x_side)\n",
    "# print(y_side)\n",
    "# dis_gaussian_1D = gaussian(x_c, r, 1.4)\n",
    "# dis_gaussian_1D = np.exp(-r**2/(2 * sigma**2))\n",
    "list_pixels_matrix = []\n",
    "dict_pix = {}\n",
    "n_array = 0\n",
    "\n",
    "for index in np.arange(1, len(sigma_values)):\n",
    "    # list_x_true = []\n",
    "    # list_y_true = []\n",
    "    pixels_array = np.zeros(shape = (0, anchura_max + 2)) \n",
    "\n",
    "    sigma = sigma_values[index]\n",
    "    # print(sigma)\n",
    "\n",
    "    # dis_gaussian_1D_x = gaussian(x_side, xc, sigma)\n",
    "    dis_gaussian_1D_y = gaussian(y_side, yc, sigma)\n",
    "    # dis_gaussian_1D_z = gaussian(z_side, 5, sigma)\n",
    "    # print(dis)\n",
    "    n = 0\n",
    "    while n < int(charge_per_line):\n",
    "        # print(dis_gaussian_1D)\n",
    "        n = n + 1\n",
    "\n",
    "        # dis_gaussian_1D = np.exp(-r**2/(2 * sigma**2))\n",
    "        Random_x = rand.choices(x_side, dis_gaussian_1D_x) \n",
    "        Random_y = rand.choices(y_side, dis_gaussian_1D_y) \n",
    "        # print(Random_x, Random_y)\n",
    "\n",
    "        pixels_array[Random_x[0]][Random_y[0]] =  pixels_array[Random_x[0]][Random_y[0]] + 1\n",
    "\n",
    "        # list_x_true.append(Random_x[0])\n",
    "        # list_y_true.append(Random_y[0])\n",
    "    \n",
    "        # list_x_true.append(dis_gaussian_1D)\n",
    "    \n",
    "    # list_pixels_matrix.append(pixels_array)\n",
    "    dict_pix[str(n_array)] = pixels_array\n",
    "    n_array = n_array + 1\n",
    "\n",
    "    \n",
    "\n",
    "print('Center: ', xc, yc)\n",
    "print(sigma)\n"
   ]
  },
  {
   "cell_type": "code",
   "execution_count": 35,
   "metadata": {},
   "outputs": [
    {
     "name": "stdout",
     "output_type": "stream",
     "text": [
      "dict_keys(['0', '1', '2', '3', '4', '5', '6', '7', '8', '9', '10', '11', '12', '13', '14', '15', '16', '17', '18', '19', '20', '21', '22', '23', '24', '25', '26', '27', '28', '29', '30', '31', '32', '33', '34', '35', '36', '37', '38', '39', '40', '41', '42', '43', '44', '45', '46', '47', '48', '49', '50', '51', '52', '53', '54', '55', '56', '57', '58', '59', '60', '61', '62', '63', '64', '65'])\n"
     ]
    },
    {
     "data": {
      "text/plain": [
       "<matplotlib.image.AxesImage at 0x76b4ff85ad40>"
      ]
     },
     "execution_count": 35,
     "metadata": {},
     "output_type": "execute_result"
    },
    {
     "data": {
      "image/png": "[encoded data removed]",
      "text/plain": [
       "<Figure size 720x648 with 2 Axes>"
      ]
     },
     "metadata": {
      "needs_background": "light"
     },
     "output_type": "display_data"
    }
   ],
   "source": [
    "index = 65\n",
    "print(dict_pix.keys())\n",
    "\n",
    "fig, axs = plt.subplots(1,2,figsize = [10,9])\n",
    "axs[0].imshow(dict_pix['0'])\n",
    "axs[1].imshow(dict_pix['65'], cmap = 'jet')"
   ]
  },
  {
   "cell_type": "code",
   "execution_count": 43,
   "metadata": {},
   "outputs": [
    {
     "name": "stdout",
     "output_type": "stream",
     "text": [
      "8\n"
     ]
    },
    {
     "data": {
      "image/png": "[encoded data removed]",
      "text/plain": [
       "<Figure size 720x648 with 1 Axes>"
      ]
     },
     "metadata": {
      "needs_background": "light"
     },
     "output_type": "display_data"
    },
    {
     "data": {
      "image/png": "[encoded data removed]",
      "text/plain": [
       "<Figure size 576x936 with 1 Axes>"
      ]
     },
     "metadata": {
      "needs_background": "light"
     },
     "output_type": "display_data"
    }
   ],
   "source": [
    "list_image_muon = [ ]\n",
    "# print(len(list_pixels_matrix[0]))\n",
    "list_keys = list(dict_pix.keys())\n",
    "# print(type(list_keys[0]))\n",
    "\n",
    "rows_gauss = np.vsplit(dict_pix[list_keys[0]],len(dict_pix[list_keys[0]]))\n",
    "\n",
    "fig, axs = plt.subplots(figsize = [10,9])\n",
    "axs.imshow(rows_gauss[3])\n",
    "\n",
    "initial_row = [[0, 0,  0,  0,  0, 0, 0]]\n",
    "list_image_muon.append(initial_row)\n",
    "\n",
    "n_pixel = [1]\n",
    "m_row = 1\n",
    "\n",
    "for index in np.arange(0, len(list_keys)):\n",
    "    # rows_gauss = np.vsplit(dict_pix[list_keys[index]],len(dict_pix[list_keys[index]][0]))\n",
    "\n",
    "    # for index_row in np.arange(0, m_row):\n",
    "    #     list_image_muon.append(rows_gauss[index_row])\n",
    "    #     m_row = m_row + 1\n",
    "    \n",
    "    if index == 0:\n",
    "        # print(index)\n",
    "        rows_gauss = np.vsplit(dict_pix[list_keys[index]],len(dict_pix[list_keys[index]][0]))\n",
    "\n",
    "        rows_gauss_next_1 = np.vsplit(dict_pix[list_keys[index + 1]],len(dict_pix[list_keys[index]][0]))\n",
    "        rows_gauss_next_2 = np.vsplit(dict_pix[list_keys[index + 2]],len(dict_pix[list_keys[index]][0]))\n",
    "        rows_gauss_next_3 = np.vsplit(dict_pix[list_keys[index + 3]],len(dict_pix[list_keys[index]][0]))\n",
    "        rows_gauss_next_4 = np.vsplit(dict_pix[list_keys[index + 4]],len(dict_pix[list_keys[index]][0]))\n",
    "        rows_gauss_next_5 = np.vsplit(dict_pix[list_keys[index + 5]],len(dict_pix[list_keys[index]][0]))\n",
    "        rows_gauss_next_6 = np.vsplit(dict_pix[list_keys[index + 6]],len(dict_pix[list_keys[index]][0]))\n",
    "        rows_gauss_next_7 = np.vsplit(dict_pix[list_keys[index + 7]],len(dict_pix[list_keys[index]][0]))\n",
    "        rows_gauss_next_8 = np.vsplit(dict_pix[list_keys[index + 8]],len(dict_pix[list_keys[index]][0]))\n",
    "        rows_gauss_next_9 = np.vsplit(dict_pix[list_keys[index + 9]],len(dict_pix[list_keys[index]][0]))\n",
    "        rows_gauss_next_10 = np.vsplit(dict_pix[list_keys[index + 10]],len(dict_pix[list_keys[index]][0]))\n",
    "        rows_gauss_next_11 = np.vsplit(dict_pix[list_keys[index + 11]],len(dict_pix[list_keys[index]][0]))\n",
    "        rows_gauss_next_12 = np.vsplit(dict_pix[list_keys[index + 12]],len(dict_pix[list_keys[index]][0]))\n",
    "\n",
    "        list_image_muon.append(rows_gauss[0])\n",
    "        list_image_muon.append(rows_gauss[1] + rows_gauss_next_1[0])\n",
    "        list_image_muon.append(rows_gauss[2] + rows_gauss_next_1[1] + rows_gauss_next_2[0])\n",
    "        list_image_muon.append(rows_gauss[3] + rows_gauss_next_1[2] + rows_gauss_next_2[1] + rows_gauss_next_3[0])\n",
    "        list_image_muon.append(rows_gauss[4] + rows_gauss_next_1[3] + rows_gauss_next_2[2] + rows_gauss_next_3[1] + rows_gauss_next_4[0])\n",
    "        list_image_muon.append(rows_gauss[5] + rows_gauss_next_1[4] + rows_gauss_next_2[3] + rows_gauss_next_3[2] + rows_gauss_next_4[1] + rows_gauss_next_5[0])\n",
    "        list_image_muon.append(rows_gauss[6] + rows_gauss_next_1[5] + rows_gauss_next_2[4] + rows_gauss_next_3[3] + rows_gauss_next_4[2] + rows_gauss_next_5[1] + rows_gauss_next_6[0])\n",
    "        # list_image_muon.append(rows_gauss[7] + rows_gauss_next_1[6] + rows_gauss_next_2[5] + rows_gauss_next_3[4] + rows_gauss_next_4[3] + rows_gauss_next_5[2] + rows_gauss_next_6[1] + rows_gauss_next_7[0])\n",
    "\n",
    "    # len(list_keys) - 6\n",
    "    # if 0 < index < 5 :\n",
    "    #     # print(index)\n",
    "    #     rows_gauss = np.vsplit(dict_pix[list_keys[index]],len(dict_pix[list_keys[index]][0]))\n",
    "\n",
    "    #     rows_gauss_next_1 = np.vsplit(dict_pix[list_keys[index + 1]],len(dict_pix[list_keys[index]][0]))\n",
    "    #     rows_gauss_next_2 = np.vsplit(dict_pix[list_keys[index + 2]],len(dict_pix[list_keys[index]][0]))\n",
    "    #     rows_gauss_next_3 = np.vsplit(dict_pix[list_keys[index + 3]],len(dict_pix[list_keys[index]][0]))\n",
    "    #     rows_gauss_next_4 = np.vsplit(dict_pix[list_keys[index + 4]],len(dict_pix[list_keys[index]][0]))\n",
    "    #     rows_gauss_next_5 = np.vsplit(dict_pix[list_keys[index + 5]],len(dict_pix[list_keys[index]][0]))\n",
    "    #     rows_gauss_next_6 = np.vsplit(dict_pix[list_keys[index + 6]],len(dict_pix[list_keys[index]][0]))\n",
    "\n",
    "    #     list_image_muon.append(rows_gauss[3] + rows_gauss_next_1[2] + rows_gauss_next_2[1] + rows_gauss_next_3[0])\n",
    "    #     list_image_muon.append(rows_gauss[4] + rows_gauss_next_1[3] + rows_gauss_next_2[2] + rows_gauss_next_3[1] + rows_gauss_next_4[0])\n",
    "    #     list_image_muon.append(rows_gauss[5] + rows_gauss_next_1[4] + rows_gauss_next_2[3] + rows_gauss_next_3[2] + rows_gauss_next_4[1] + rows_gauss_next_5[0])\n",
    "    #     list_image_muon.append(rows_gauss[6] + rows_gauss_next_1[5] + rows_gauss_next_2[4] + rows_gauss_next_3[3] + rows_gauss_next_4[2] + rows_gauss_next_5[1] + rows_gauss_next_6[0])\n",
    "\n",
    "        # list_image_muon.append(rows_gauss_next[0])\n",
    "        # list_image_muon.append(rows_gauss_next[1])\n",
    "        # list_image_muon.append(rows_gauss_next[2])\n",
    "        # list_image_muon.append(rows_gauss_next[3])\n",
    "        # list_image_muon.append(rows_gauss_next[4])\n",
    "        # list_image_muon.append(rows_gauss_next[5])\n",
    "        # list_image_muon.append(rows_gauss_next[6])\n",
    "        # list_image_muon.append(rows_gauss[7])\n",
    "    #     contribution_1 = rows_gauss[3]\n",
    "    #     contribution_2 = rows_gauss[4]\n",
    "\n",
    "    # elif index == 1:\n",
    "    #     list_image_muon.append(rows_gauss[2] + contribution_1)\n",
    "    #     contribution_1 = rows_gauss[3] + contribution_2\n",
    "    #     contribution_2 = rows_gauss[4]\n",
    "\n",
    "    # elif 1 < index < len(list_gaussians) - 1:\n",
    "    #     list_image_muon.append(rows_gauss[2] + contribution_1 + contribution_2)\n",
    "    #     contribution_1 = rows_gauss[3] + contribution_2\n",
    "    #     contribution_2 = rows_gauss[4]\n",
    "\n",
    "    # elif index == len(list_gaussians) - 1 :\n",
    "    #     list_image_muon.append(rows_gauss[2] + contribution_1 + contribution_2)\n",
    "    #     list_image_muon.append(rows_gauss[3] + contribution_2)\n",
    "    #     list_image_muon.append(rows_gauss[4])\n",
    "    #     # list_image_muon.append(rows_gauss[5])\n",
    "\n",
    "# final_row = [[0, 0,  0,  0,  0, 0, 0]]\n",
    "# list_image_muon.append(final_row)\n",
    "\n",
    "print(len(list_image_muon))\n",
    "imagen = np.concatenate(list_image_muon, axis = 0)\n",
    "# Zeros = np.zeros([int(np.around(delta_XY_px,0)), anchura_max])\n",
    "# print(Zeros.shape)\n",
    "# x, y = np.meshgrid(i, j)\n",
    "# plt.imshow(Zeros)\n",
    "# imagen = np.concatenate((Gaussian_1, Gaussian_2), axis = 0)\n",
    "\n",
    "fig, axs = plt.subplots(figsize=[8, 13])\n",
    "x1 = axs.imshow(imagen, origin = 'lower', cmap= ColorMap)#, vmin=0, vmax=charge_per_line/10)\n",
    "# fig.colorbar(x1)\n",
    "plt.show()"
   ]
  },
  {
   "cell_type": "code",
   "execution_count": 44,
   "metadata": {},
   "outputs": [
    {
     "name": "stdout",
     "output_type": "stream",
     "text": [
      "58762.0\n"
     ]
    },
    {
     "data": {
      "image/png": "[encoded data removed]",
      "text/plain": [
       "<Figure size 576x936 with 1 Axes>"
      ]
     },
     "metadata": {
      "needs_background": "light"
     },
     "output_type": "display_data"
    }
   ],
   "source": [
    "for index in np.arange(0, len(list_keys)):\n",
    "    rows_gauss = np.vsplit(dict_pix[list_keys[index]],len(dict_pix[list_keys[index]]))\n",
    "\n",
    "    # rows_gauss_2 = np.vsplit(list_gaussians[1],5)\n",
    "    # rows_gauss_3 = np.vsplit(list_gaussians[2],5)\n",
    "    # rows_gauss_4 = np.vsplit(list_gaussians[3],5)\n",
    "    # print(rows_gauss[2])\n",
    "    if index == 0:\n",
    "        rows_gauss_next = np.vsplit(dict_pix[list_keys[index + 1]],len(dict_pix[list_keys[index + 1]]))\n",
    "\n",
    "        list_image_muon.append(rows_gauss[3] + rows_gauss_next[1])\n",
    "        contribution_1 = rows_gauss[3]\n",
    "        contribution_2 = rows_gauss[4]\n",
    "\n",
    "    elif index == 1:\n",
    "        list_image_muon.append(rows_gauss[2] + contribution_1)\n",
    "        contribution_1 = rows_gauss[3] + contribution_2\n",
    "        contribution_2 = rows_gauss[4]\n",
    "\n",
    "    elif 1 < index < len(list_keys) - 1:\n",
    "        list_image_muon.append(rows_gauss[2] + contribution_1 + contribution_2)\n",
    "        contribution_1 = rows_gauss[3] + contribution_2\n",
    "        contribution_2 = rows_gauss[4]\n",
    "\n",
    "    elif index ==len(list_keys) - 1 :\n",
    "        list_image_muon.append(rows_gauss[2] + contribution_1 + contribution_2)\n",
    "        list_image_muon.append(rows_gauss[3] + contribution_2)\n",
    "        list_image_muon.append(rows_gauss[4])\n",
    "        # list_image_muon.append(rows_gauss[5])\n",
    "\n",
    "# final_row = [[0, 0,  0,  0,  0, 0, 0]]\n",
    "# list_image_muon.append(final_row)\n",
    "\n",
    "imagen = np.concatenate(list_image_muon, axis = 0)\n",
    "# Zeros = np.zeros([int(np.around(delta_XY_px,0)), anchura_max])\n",
    "# print(Zeros.shape)\n",
    "# x, y = np.meshgrid(i, j)\n",
    "# plt.imshow(Zeros)\n",
    "# imagen = np.concatenate((Gaussian_1, Gaussian_2), axis = 0)\n",
    "\n",
    "print(imagen.sum())\n",
    "\n",
    "fig, axs = plt.subplots(figsize=[8, 13])\n",
    "x1 = axs.imshow(imagen, origin = 'lower',cmap = ColorMap)\n",
    "# fig.colorbar(x1)\n",
    "plt.show()"
   ]
  },
  {
   "cell_type": "markdown",
   "metadata": {},
   "source": [
    "### Perfil de Energías"
   ]
  },
  {
   "cell_type": "code",
   "execution_count": 45,
   "metadata": {},
   "outputs": [
    {
     "name": "stderr",
     "output_type": "stream",
     "text": [
      "No artists with labels found to put in legend.  Note that artists whose label start with an underscore are ignored when legend() is called with no argument.\n"
     ]
    },
    {
     "name": "stdout",
     "output_type": "stream",
     "text": [
      "750.0 785.0\n"
     ]
    },
    {
     "data": {
      "image/png": "[encoded data removed]",
      "text/plain": [
       "<Figure size 936x648 with 2 Axes>"
      ]
     },
     "metadata": {},
     "output_type": "display_data"
    }
   ],
   "source": [
    "## Muons Extention 4\n",
    "# muons_vertical_labels_1 = [[73], [3], [6], [14], [27]] #, 23,  27, 40, 43, 46, 49, 59, 85, 92, 94, 98] # Extensión 4\n",
    "\n",
    "# muon_label = 73  # Se coloca directamente el label del evento\n",
    "\n",
    "Delta_inicial = 1\n",
    "Delta_final = 1\n",
    "extension = 4\n",
    "\n",
    "fig, axs = plt.subplots(ncols=2, nrows=1, figsize = [13,9], facecolor = [0, 0.4470, 0.7410])\n",
    "fig.suptitle('Perfil de Muon Vertical', y = 0.97, size = 20)\n",
    "\n",
    "# for event in matrix_ext_4_vertical[num:num + 1]:\n",
    "\n",
    "# event = check_flip_vertical_muon(dict= data_histogram, label_muon=muon_label, Delta_in=Delta_inicial, Delta_fin=Delta_final, extension=extension)\n",
    "event = imagen\n",
    "# plt.imshow(event)\n",
    "size_x = event.shape[1] # tamaño en x\n",
    "size_y = event.shape[0] # tamaño en y\n",
    "# print(event.sum())\n",
    "\n",
    "label_verticalMuon, nlabels_verticalMuon = ndimage.label(event,structure=[[0,0,0],[1,1,1],[0,0,0]])\n",
    "\n",
    "charge_verticalMuon = []\n",
    "for lable_line in np.arange(Delta_inicial, nlabels_verticalMuon - Delta_final):\n",
    "    line = label_verticalMuon == lable_line\n",
    "    loc = ndimage.find_objects(label_verticalMuon == lable_line)[0]\n",
    "    mask_35 = np.invert(label_verticalMuon == lable_line)\n",
    "    data_mask = ma.masked_array(event[loc[0].start:loc[0].stop, loc[1].start:loc[1].stop], mask_35[loc[0].start:loc[0].stop, loc[1].start:loc[1].stop])\n",
    "    # print(len(data_mask[0]))\n",
    "    charge = data_mask.sum()\n",
    "    # print(charge)\n",
    "    mean_charge = data_mask.mean()\n",
    "\n",
    "    charge_verticalMuon.append(charge)\n",
    "    # print(charge)\n",
    "\n",
    "## Linea inferior ##\n",
    "# line_inf = [size_x]\n",
    "# axs[0].imshow(data_mask)\n",
    "print(charge_verticalMuon[0], charge_verticalMuon[-1])\n",
    "\n",
    "axs[0].imshow(event, origin='lower', cmap = 'jet')\n",
    "# axs[0].set_title('Muon ' + str(muon_label))\n",
    "axs[0].set_xlabel('Size: (' + str(size_x) + ' , ' + str(size_y) + ' )')\n",
    "# x0bar = fig.colorbar(x0, ax=axs[0])\n",
    "\n",
    "axs[1].stairs(charge_verticalMuon, np.arange(0,len(charge_verticalMuon)+1),  orientation='horizontal', color = 'r')#,  hatch = '////')\n",
    "# axs[1].vlines(x = mean_charge, ymin = 0, ymax = len(event) - 1, color = 'k', label = 'Mean Charge \\n' + str(mean_charge))\n",
    "axs[1].set_xlabel('Charge (e-)')\n",
    "axs[1].set_ylabel('Line (px)')\n",
    "# axs[1].set_ylim(0,len(event) - 1 )\n",
    "axs[1].set_title('Energy Profile')\n",
    "axs[1].legend()\n",
    "axs[1].grid()\n",
    "plt.show()"
   ]
  },
  {
   "cell_type": "markdown",
   "metadata": {},
   "source": [
    "## Ajuste de doble gaussiana"
   ]
  },
  {
   "cell_type": "code",
   "execution_count": 17,
   "metadata": {},
   "outputs": [
    {
     "ename": "NameError",
     "evalue": "name 'Gaussian_1' is not defined",
     "output_type": "error",
     "traceback": [
      "\u001b[0;31m---------------------------------------------------------------------------\u001b[0m",
      "\u001b[0;31mNameError\u001b[0m                                 Traceback (most recent call last)",
      "\u001b[0;32m/tmp/ipykernel_7466/2679202602.py\u001b[0m in \u001b[0;36m<module>\u001b[0;34m\u001b[0m\n\u001b[1;32m      3\u001b[0m \u001b[0mx\u001b[0m\u001b[0;34m,\u001b[0m \u001b[0my\u001b[0m \u001b[0;34m=\u001b[0m \u001b[0mnp\u001b[0m\u001b[0;34m.\u001b[0m\u001b[0mmeshgrid\u001b[0m\u001b[0;34m(\u001b[0m\u001b[0mx\u001b[0m\u001b[0;34m,\u001b[0m \u001b[0my\u001b[0m\u001b[0;34m)\u001b[0m\u001b[0;34m\u001b[0m\u001b[0;34m\u001b[0m\u001b[0m\n\u001b[1;32m      4\u001b[0m \u001b[0;34m\u001b[0m\u001b[0m\n\u001b[0;32m----> 5\u001b[0;31m \u001b[0mpopt\u001b[0m\u001b[0;34m,\u001b[0m \u001b[0mpcov\u001b[0m \u001b[0;34m=\u001b[0m \u001b[0mcurve_fit\u001b[0m\u001b[0;34m(\u001b[0m\u001b[0mGaussian_2d\u001b[0m\u001b[0;34m,\u001b[0m \u001b[0mnp\u001b[0m\u001b[0;34m.\u001b[0m\u001b[0mravel\u001b[0m\u001b[0;34m(\u001b[0m\u001b[0mGaussian_1\u001b[0m\u001b[0;34m)\u001b[0m\u001b[0;34m)\u001b[0m\u001b[0;34m\u001b[0m\u001b[0;34m\u001b[0m\u001b[0m\n\u001b[0m",
      "\u001b[0;31mNameError\u001b[0m: name 'Gaussian_1' is not defined"
     ]
    }
   ],
   "source": [
    "x = np.linspace(0, anchura_max, anchura_max)\n",
    "y = np.linspace(0, anchura_max, anchura_max)\n",
    "x, y = np.meshgrid(x, y)\n",
    "\n",
    "popt, pcov = curve_fit(Gaussian_2d, np.ravel(Gaussian_1))"
   ]
  },
  {
   "cell_type": "markdown",
   "metadata": {},
   "source": []
  }
 ],
 "metadata": {
  "kernelspec": {
   "display_name": "Python 3",
   "language": "python",
   "name": "python3"
  },
  "language_info": {
   "codemirror_mode": {
    "name": "ipython",
    "version": 3
   },
   "file_extension": ".py",
   "mimetype": "text/x-python",
   "name": "python",
   "nbconvert_exporter": "python",
   "pygments_lexer": "ipython3",
   "version": "3.10.12"
  }
 },
 "nbformat": 4,
 "nbformat_minor": 2
}
