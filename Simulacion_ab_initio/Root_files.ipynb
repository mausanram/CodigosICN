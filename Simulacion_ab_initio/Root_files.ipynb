{
 "cells": [
  {
   "cell_type": "code",
   "execution_count": 8,
   "metadata": {},
   "outputs": [
    {
     "ename": "SyntaxError",
     "evalue": "invalid syntax (3043146447.py, line 3)",
     "output_type": "error",
     "traceback": [
      "\u001b[0;36m  File \u001b[0;32m\"/tmp/ipykernel_7095/3043146447.py\"\u001b[0;36m, line \u001b[0;32m3\u001b[0m\n\u001b[0;31m    ROOT:Math:GSLRandomEngine rnd;\u001b[0m\n\u001b[0m             ^\u001b[0m\n\u001b[0;31mSyntaxError\u001b[0m\u001b[0;31m:\u001b[0m invalid syntax\n"
     ]
    }
   ],
   "source": [
    "import ROOT\n",
    "\n",
    "ROOT::Math::GSLRandomEngine rnd;\n",
    "rnd.Initialize();\n",
    "\n",
    "const int dim = 3;\n",
    "double pars[dim] = {0, 0, 0.5};\n",
    "double genpars[dim] = {0, 0, 0};\n",
    "double cov[dim * dim] = {1.0, -0.2, 0.0, -0.2, 1.0, 0.5, 0.0, 0.5, 0.75};\n",
    "\n",
    "TH1F* hX = new TH1F(\"hX\", \"hX;x;Counts\", 100, -5, 5);\n",
    "TH1F* hY = new TH1F(\"hY\", \"hY;y;Counts\", 100, -5, 5);\n",
    "TH1F* hZ = new TH1F(\"hZ\", \"hZ;z;Counts\", 100, -5, 5);\n",
    "\n",
    "TH2F* hXY = new TH2F(\"hXY\", \"hXY;x;y;Counts\", 100, -5, 5, 100, -5, 5);\n",
    "TH2F* hXZ = new TH2F(\"hXZ\", \"hXZ;x;z;Counts\", 100, -5, 5, 100, -5, 5);\n",
    "TH2F* hYZ = new TH2F(\"hYZ\", \"hYZ;y;z;Counts\", 100, -5, 5, 100, -5, 5);\n",
    "\n",
    "const int MAX = 10000;\n",
    "for (int iEvent = 0; iEvent < MAX; ++iEvent) {\n",
    "  rnd.GaussianND(dim, pars, cov, genpars);\n",
    "  auto x = genpars[0];\n",
    "  auto y = genpars[1];\n",
    "  auto z = genpars[2];\n",
    "  hX->Fill(x);\n",
    "  hY->Fill(y);\n",
    "  hZ->Fill(z);\n",
    "  hXY->Fill(x, y);\n",
    "  hXZ->Fill(x, z);\n",
    "  hYZ->Fill(y, z);\n",
    "}\n",
    "\n",
    "TCanvas* c = new TCanvas(\"c\", \"Multivariate gaussian random numbers\");\n",
    "c->Divide(3, 2);\n",
    "c->cd(1);\n",
    "hX->Draw();\n",
    "c->cd(2);\n",
    "hY->Draw();\n",
    "c->cd(3);\n",
    "hZ->Draw();\n",
    "c->cd(4);\n",
    "hXY->Draw(\"COL\");\n",
    "c->cd(5);\n",
    "hXZ->Draw(\"COL\");\n",
    "c->cd(6);\n",
    "hYZ->Draw(\"COL\");"
   ]
  }
 ],
 "metadata": {
  "kernelspec": {
   "display_name": "Python 3",
   "language": "python",
   "name": "python3"
  },
  "language_info": {
   "codemirror_mode": {
    "name": "ipython",
    "version": 3
   },
   "file_extension": ".py",
   "mimetype": "text/x-python",
   "name": "python",
   "nbconvert_exporter": "python",
   "pygments_lexer": "ipython3",
   "version": "3.10.12"
  }
 },
 "nbformat": 4,
 "nbformat_minor": 2
}
