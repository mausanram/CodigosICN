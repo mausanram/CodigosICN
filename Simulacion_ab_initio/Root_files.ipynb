{
 "cells": [
  {
   "cell_type": "code",
   "execution_count": 1,
   "metadata": {},
   "outputs": [],
   "source": [
    "# import ROOT\n",
    "import numpy as np\n",
    "from array import array\n",
    "import ctypes as cty\n",
    "import matplotlib.pyplot as plt\n",
    "import random as rand\n"
   ]
  },
  {
   "cell_type": "code",
   "execution_count": 3,
   "metadata": {},
   "outputs": [
    {
     "ename": "SyntaxError",
     "evalue": "invalid syntax (731098958.py, line 6)",
     "output_type": "error",
     "traceback": [
      "\u001b[0;36m  File \u001b[0;32m\"/tmp/ipykernel_4960/731098958.py\"\u001b[0;36m, line \u001b[0;32m6\u001b[0m\n\u001b[0;31m    const int dim = 3\u001b[0m\n\u001b[0m          ^\u001b[0m\n\u001b[0;31mSyntaxError\u001b[0m\u001b[0;31m:\u001b[0m invalid syntax\n"
     ]
    }
   ],
   "source": [
    "\n",
    "\n",
    "# ROOT::Math::GSLRandomEngine rnd\n",
    "rnd.Initialize()\n",
    "\n",
    "const int dim = 3\n",
    "double pars[dim] = {0, 0, 0.5}\n",
    "double genpars[dim] = {0, 0, 0}\n",
    "double cov[dim * dim] = {1.0, -0.2, 0.0, -0.2, 1.0, 0.5, 0.0, 0.5, 0.75};\n",
    "\n",
    "TH1F* hX = new TH1F(\"hX\", \"hX;x;Counts\", 100, -5, 5);\n",
    "TH1F* hY = new TH1F(\"hY\", \"hY;y;Counts\", 100, -5, 5);\n",
    "TH1F* hZ = new TH1F(\"hZ\", \"hZ;z;Counts\", 100, -5, 5);\n",
    "\n",
    "TH2F* hXY = new TH2F(\"hXY\", \"hXY;x;y;Counts\", 100, -5, 5, 100, -5, 5);\n",
    "TH2F* hXZ = new TH2F(\"hXZ\", \"hXZ;x;z;Counts\", 100, -5, 5, 100, -5, 5);\n",
    "TH2F* hYZ = new TH2F(\"hYZ\", \"hYZ;y;z;Counts\", 100, -5, 5, 100, -5, 5);\n",
    "\n",
    "const int MAX = 10000;\n",
    "for (int iEvent = 0; iEvent < MAX; ++iEvent) {\n",
    "  rnd.GaussianND(dim, pars, cov, genpars);\n",
    "  auto x = genpars[0];\n",
    "  auto y = genpars[1];\n",
    "  auto z = genpars[2];\n",
    "  hX->Fill(x);\n",
    "  hY->Fill(y);\n",
    "  hZ->Fill(z);\n",
    "  hXY->Fill(x, y);\n",
    "  hXZ->Fill(x, z);\n",
    "  hYZ->Fill(y, z);\n",
    "}\n",
    "\n",
    "TCanvas* c = new TCanvas(\"c\", \"Multivariate gaussian random numbers\");\n",
    "c->Divide(3, 2);\n",
    "c->cd(1);\n",
    "hX->Draw();\n",
    "c->cd(2);\n",
    "hY->Draw();\n",
    "c->cd(3);\n",
    "hZ->Draw();\n",
    "c->cd(4);\n",
    "hXY->Draw(\"COL\");\n",
    "c->cd(5);\n",
    "hXZ->Draw(\"COL\");\n",
    "c->cd(6);\n",
    "hYZ->Draw(\"COL\");"
   ]
  },
  {
   "cell_type": "code",
   "execution_count": 99,
   "metadata": {},
   "outputs": [
    {
     "ename": "TypeError",
     "evalue": "void ROOT::Math::GSLRandomEngine::GaussianND(const int dim, double* pars, double* covmat, double* genpars) =>\n    TypeError: could not convert argument 2 (could not convert argument to buffer or nullptr)",
     "output_type": "error",
     "traceback": [
      "\u001b[0;31m---------------------------------------------------------------------------\u001b[0m",
      "\u001b[0;31mTypeError\u001b[0m                                 Traceback (most recent call last)",
      "\u001b[0;32m/tmp/ipykernel_5156/3524315068.py\u001b[0m in \u001b[0;36m<module>\u001b[0;34m\u001b[0m\n\u001b[1;32m     28\u001b[0m \u001b[0;32mfor\u001b[0m \u001b[0mi\u001b[0m \u001b[0;32min\u001b[0m \u001b[0mnp\u001b[0m\u001b[0;34m.\u001b[0m\u001b[0marange\u001b[0m\u001b[0;34m(\u001b[0m\u001b[0;36m0\u001b[0m\u001b[0;34m,\u001b[0m \u001b[0mMAX\u001b[0m\u001b[0;34m)\u001b[0m\u001b[0;34m:\u001b[0m\u001b[0;34m\u001b[0m\u001b[0;34m\u001b[0m\u001b[0m\n\u001b[1;32m     29\u001b[0m   \u001b[0;31m# rnd.Gaussian2D(0.5, 0.5, 1, cty.c_double(10), cty.c_double(10)).Rndm\u001b[0m\u001b[0;34m\u001b[0m\u001b[0;34m\u001b[0m\u001b[0m\n\u001b[0;32m---> 30\u001b[0;31m   \u001b[0mROOT\u001b[0m\u001b[0;34m.\u001b[0m\u001b[0mMath\u001b[0m\u001b[0;34m.\u001b[0m\u001b[0mGSLRandomEngine\u001b[0m\u001b[0;34m(\u001b[0m\u001b[0;34m)\u001b[0m\u001b[0;34m.\u001b[0m\u001b[0mGaussianND\u001b[0m\u001b[0;34m(\u001b[0m\u001b[0mdim\u001b[0m\u001b[0;34m,\u001b[0m \u001b[0mpars\u001b[0m\u001b[0;34m,\u001b[0m \u001b[0mcov\u001b[0m\u001b[0;34m,\u001b[0m \u001b[0mgenpars\u001b[0m\u001b[0;34m)\u001b[0m\u001b[0;34m.\u001b[0m\u001b[0mRndm\u001b[0m\u001b[0;34m(\u001b[0m\u001b[0;34m)\u001b[0m\u001b[0;34m\u001b[0m\u001b[0;34m\u001b[0m\u001b[0m\n\u001b[0m\u001b[1;32m     31\u001b[0m   \u001b[0;31m# print(r)\u001b[0m\u001b[0;34m\u001b[0m\u001b[0;34m\u001b[0m\u001b[0m\n\u001b[1;32m     32\u001b[0m   \u001b[0;31m# x = genpars[0]\u001b[0m\u001b[0;34m\u001b[0m\u001b[0;34m\u001b[0m\u001b[0m\n",
      "\u001b[0;31mTypeError\u001b[0m: void ROOT::Math::GSLRandomEngine::GaussianND(const int dim, double* pars, double* covmat, double* genpars) =>\n    TypeError: could not convert argument 2 (could not convert argument to buffer or nullptr)"
     ]
    },
    {
     "name": "stderr",
     "output_type": "stream",
     "text": [
      "Warning in <TROOT::Append>: Replacing existing TH1: hX (Potential memory leak).\n",
      "Warning in <TROOT::Append>: Replacing existing TH1: hY (Potential memory leak).\n",
      "Warning in <TROOT::Append>: Replacing existing TH1: hZ (Potential memory leak).\n",
      "Warning in <TROOT::Append>: Replacing existing TH1: hXY (Potential memory leak).\n",
      "Warning in <TROOT::Append>: Replacing existing TH1: hXZ (Potential memory leak).\n",
      "Warning in <TROOT::Append>: Replacing existing TH1: hYZ (Potential memory leak).\n"
     ]
    }
   ],
   "source": [
    "\n",
    "# ROOT::Math::GSLRandomEngine rnd\n",
    "ROOT.Math.GSLRandomEngine().Initialize()\n",
    "# print(type(ROOT.Math.GSLRandomEngine.Rndm))\n",
    "rnd =  ROOT.Math.GSLRandomEngine()\n",
    "dim = 3\n",
    "pars= [0.0, 0.0, 0.5]\n",
    "# pars = 0\n",
    "genpars = [0, 0, 0]\n",
    "# genpars = 0\n",
    "cov = [1.0, -0.2, 0.0, -0.2, 1.0, 0.5, 0.0, 0.5, 0.75]\n",
    "# cov = 1\n",
    "\n",
    "hX = ROOT.TH1F(\"hX\", \"hX;x;Counts\", 100, -5, 5)\n",
    "hY = ROOT.TH1F(\"hY\", \"hY;y;Counts\", 100, -5, 5)\n",
    "hZ = ROOT.TH1F(\"hZ\", \"hZ;z;Counts\", 100, -5, 5)\n",
    "\n",
    "hXY = ROOT.TH2F(\"hXY\", \"hXY;x;y;Counts\", 100, -5, 5, 100, -5, 5)\n",
    "hXZ = ROOT.TH2F(\"hXZ\", \"hXZ;x;z;Counts\", 100, -5, 5, 100, -5, 5)\n",
    "hYZ = ROOT.TH2F(\"hYZ\", \"hYZ;y;z;Counts\", 100, -5, 5, 100, -5, 5)\n",
    "\n",
    "MAX = 10\n",
    "\n",
    "for i in np.arange(0, MAX):\n",
    "  # rnd.Gaussian2D(0.5, 0.5, 1, cty.c_double(10), cty.c_double(10)).Rndm\n",
    "  ROOT.Math.GSLRandomEngine().GaussianND(dim, pars, cov, genpars).Rndm()\n",
    "  # print(r)\n",
    "  # x = genpars[0]\n",
    "  # y = genpars[1]\n",
    "  # z = genpars[2]\n",
    "  # hX.Fill(x)\n",
    "  # hY.Fill(y)\n",
    "  # hZ.Fill(z)\n",
    "  # hXY.Fill(x, y)\n",
    "  # hXZ.Fill(x, z)\n",
    "  # hYZ.Fill(y, z)\n",
    "\n",
    "c = ROOT.TCanvas(\"c\", \"Multivariate gaussian random numbers\");\n",
    "c.Divide(3, 2)\n",
    "c.cd(1)\n",
    "hX.Draw()\n",
    "c.cd(2)\n",
    "hY.Draw()\n",
    "c.cd(3)\n",
    "hZ.Draw()\n",
    "c.cd(4)\n",
    "hXY.Draw(\"COL\")\n",
    "c.cd(5)\n",
    "hXZ.Draw(\"COL\")\n",
    "c.cd(6)\n",
    "hYZ.Draw(\"COL\")"
   ]
  },
  {
   "cell_type": "code",
   "execution_count": 74,
   "metadata": {},
   "outputs": [
    {
     "data": {
      "text/plain": [
       "<matplotlib.image.AxesImage at 0x77956f240ca0>"
      ]
     },
     "execution_count": 74,
     "metadata": {},
     "output_type": "execute_result"
    },
    {
     "data": {
      "image/png": "[encoded data removed]",
      "text/plain": [
       "<Figure size 432x288 with 1 Axes>"
      ]
     },
     "metadata": {
      "needs_background": "light"
     },
     "output_type": "display_data"
    }
   ],
   "source": [
    "\n",
    "\n",
    "list_rand =[]\n",
    "\n",
    "for i in np.arange(0, 20):\n",
    "    rand = np.random.multivariate_normal([1, 1,1], [[1, 0,0],[0,1,0], [0,0,1]])\n",
    "    list_rand.append(rand)\n",
    "\n",
    "plt.imshow(list_rand, origin='lower')"
   ]
  },
  {
   "cell_type": "code",
   "execution_count": 5,
   "metadata": {},
   "outputs": [
    {
     "name": "stdout",
     "output_type": "stream",
     "text": [
      "La lista que relaciona XY con profundiad tiene longitud:  67\n"
     ]
    }
   ],
   "source": [
    "def gaussian(x, mean, sigma):\n",
    "    return np.exp(-((x - mean)**2 / (2 * sigma**2)))\n",
    "\n",
    "def gaussian_norm(x, mean, sigma):\n",
    "    return ((1)/(sigma * np.sqrt(2 * np.pi))) * np.exp(-((x - mean)**2 / (2 * sigma**2)))\n",
    "\n",
    "def diffution_curve(z, alpha, beta):\n",
    "    return np.sqrt(np.abs(alpha * np.log(1 - (beta * z))))\n",
    "\n",
    "dict_diffuse = {'Alpha' : 7.964, 'Beta' : 2.379 * 10**(-4)}  \n",
    "Alpha = dict_diffuse['Alpha']\n",
    "Beta = dict_diffuse['Beta']\n",
    "\n",
    "CCD_deep = 725 # micras\n",
    "muon_deep = 725 # micras\n",
    "muon_deep_px = muon_deep/15\n",
    "delta_L = 1000 # micras \n",
    "\n",
    "delta_XY = np.sqrt(delta_L**2 - muon_deep )\n",
    "delta_XY_px = delta_XY / 15\n",
    "\n",
    "list_XY_deep = np.linspace(0, muon_deep_px, int(np.around(delta_XY_px, 0)))\n",
    "# print(Alpha, Beta)\n",
    "z_deeps = np.arange(7.5, CCD_deep, 7.5) # micras\n",
    "sigma_values = diffution_curve(list_XY_deep * 15, Alpha, Beta) # micras\n",
    "\n",
    "print('La lista que relaciona XY con profundiad tiene longitud: ', len(list_XY_deep))\n",
    "# print(list_XY_deep * 15)"
   ]
  },
  {
   "cell_type": "code",
   "execution_count": 12,
   "metadata": {},
   "outputs": [],
   "source": [
    "anchura_max = int(np.around(sigma_values[-1] * 4 , 0))\n",
    "\n",
    "pixels_array = np.zeros(shape = (anchura_max + 2, anchura_max + 2))\n",
    "# pixels_array[0][1] =  pixels_array[0][1] + 1\n",
    "# print(pixels_array[0][1])"
   ]
  },
  {
   "cell_type": "code",
   "execution_count": 81,
   "metadata": {},
   "outputs": [
    {
     "name": "stdout",
     "output_type": "stream",
     "text": [
      "5\n",
      "Center:  3.0 3.0\n",
      "1.227899169639873\n"
     ]
    }
   ],
   "source": [
    "# x = np.arange(-10, 10, 0.5)\n",
    "# y = [-5, 5]\n",
    "print(anchura_max)\n",
    "i,j = np.indices([anchura_max + 2, anchura_max + 2])\n",
    "# print(i)\n",
    "# print(j)\n",
    "\n",
    "\n",
    "center = np.array([(i.max()-i.min())/2.0,(j.max()-j.min())/2.0])\n",
    "xc = center[1]\n",
    "yc = center[0]\n",
    "\n",
    "r = np.hypot(i-yc,j-xc)\n",
    "\n",
    "x_side = np.arange(i[0][0], i[-1][0], 1)\n",
    "y_side = np.arange(j[0][0], j[0][-1], 1)\n",
    "z_side = np.arange(0, 1, 0.01)\n",
    "\n",
    "# print(x_side)\n",
    "# print(y_side)\n",
    "# dis_gaussian_1D = gaussian(x_c, r, 1.4)\n",
    "# dis_gaussian_1D = np.exp(-r**2/(2 * sigma**2))\n",
    "list_pixels_matrix = []\n",
    "dict_pix = {}\n",
    "n_array = 0\n",
    "\n",
    "for index in np.arange(1, len(sigma_values)):\n",
    "    # list_x_true = []\n",
    "    # list_y_true = []\n",
    "    pixels_array = np.zeros(shape = (anchura_max + 2, anchura_max + 2)) \n",
    "\n",
    "    sigma = sigma_values[index]\n",
    "    # print(sigma)\n",
    "\n",
    "    dis_gaussian_1D_x = gaussian(x_side, xc, sigma)\n",
    "    dis_gaussian_1D_y = gaussian(y_side, yc, sigma)\n",
    "    # dis_gaussian_1D_z = gaussian(z_side, 5, sigma)\n",
    "    # print(dis)\n",
    "    n = 0\n",
    "    while n < 100000:\n",
    "        # print(dis_gaussian_1D)\n",
    "        n = n + 1\n",
    "\n",
    "        # dis_gaussian_1D = np.exp(-r**2/(2 * sigma**2))\n",
    "        Random_x = rand.choices(x_side, dis_gaussian_1D_x) \n",
    "        Random_y = rand.choices(y_side, dis_gaussian_1D_y) \n",
    "        # print(Random_x, Random_y)\n",
    "\n",
    "        pixels_array[Random_x[0]][Random_y[0]] =  pixels_array[Random_x[0]][Random_y[0]] + 1\n",
    "\n",
    "        # list_x_true.append(Random_x[0])\n",
    "        # list_y_true.append(Random_y[0])\n",
    "    \n",
    "        # list_x_true.append(dis_gaussian_1D)\n",
    "    \n",
    "    # list_pixels_matrix.append(pixels_array)\n",
    "    dict_pix[str(n_array)] = pixels_array\n",
    "    n_array = n_array + 1\n",
    "\n",
    "    \n",
    "\n",
    "print('Center: ', xc, yc)\n",
    "print(sigma)\n",
    "# fig, axs = plt.subplots(1,2,figsize = [10,9])\n",
    "# axs[0].hist(list_x_true)\n",
    "# axs[1].hist(list_y_true)\n",
    "# plt.show()\n",
    "    \n",
    "# plt.hist(list_x_true)\n",
    "# print(list_x_true[-1])\n",
    "\n",
    "# plt.imshow(list_x_true)\n",
    "# plt.show()\n",
    "\n",
    "# x_gauss = gaussian(x, 0, 0.2) * 10\n",
    "\n",
    "# list_random_x = []\n",
    "# list_random_float = []\n",
    "# for i in np.arange(0, 1000):\n",
    "#     random_int = np.random.randint(-10, 10)\n",
    "#     random_float = np.random.random()\n",
    "\n",
    "#     list_random_x.append(random_int)\n",
    "#     list_random_float.append(random_float)\n",
    "\n",
    "\n",
    "# plt.plot(list_random_x, list_random_float, 'o')\n",
    "# plt.plot(x, x_gauss)"
   ]
  },
  {
   "cell_type": "code",
   "execution_count": 80,
   "metadata": {},
   "outputs": [
    {
     "name": "stdout",
     "output_type": "stream",
     "text": [
      "dict_keys(['1', '2', '3', '4', '5', '6', '7', '8', '9', '10', '11', '12', '13', '14', '15', '16', '17', '18', '19', '20', '21', '22', '23', '24', '25', '26', '27', '28', '29', '30', '31', '32', '33', '34', '35', '36', '37', '38', '39', '40', '41', '42', '43', '44', '45', '46', '47', '48', '49', '50', '51', '52', '53', '54', '55', '56', '57', '58', '59', '60', '61', '62', '63', '64', '65', '66'])\n"
     ]
    },
    {
     "data": {
      "text/plain": [
       "<matplotlib.image.AxesImage at 0x78b0407fcd90>"
      ]
     },
     "execution_count": 80,
     "metadata": {},
     "output_type": "execute_result"
    },
    {
     "data": {
      "image/png": "[encoded data removed]",
      "text/plain": [
       "<Figure size 720x648 with 2 Axes>"
      ]
     },
     "metadata": {
      "needs_background": "light"
     },
     "output_type": "display_data"
    }
   ],
   "source": [
    "index = 65\n",
    "print(dict_pix.keys())\n",
    "\n",
    "fig, axs = plt.subplots(1,2,figsize = [10,9])\n",
    "axs[0].imshow(dict_pix['0'])\n",
    "axs[1].imshow(dict_pix['65'])"
   ]
  },
  {
   "cell_type": "code",
   "execution_count": 119,
   "metadata": {},
   "outputs": [
    {
     "name": "stdout",
     "output_type": "stream",
     "text": [
      "12\n"
     ]
    },
    {
     "data": {
      "image/png": "[encoded data removed]",
      "text/plain": [
       "<Figure size 720x648 with 1 Axes>"
      ]
     },
     "metadata": {
      "needs_background": "light"
     },
     "output_type": "display_data"
    },
    {
     "data": {
      "image/png": "[encoded data removed]",
      "text/plain": [
       "<Figure size 576x936 with 1 Axes>"
      ]
     },
     "metadata": {
      "needs_background": "light"
     },
     "output_type": "display_data"
    }
   ],
   "source": [
    "list_image_muon = [ ]\n",
    "# print(len(list_pixels_matrix[0]))\n",
    "list_keys = list(dict_pix.keys())\n",
    "# print(type(list_keys[0]))\n",
    "\n",
    "rows_gauss = np.vsplit(dict_pix[list_keys[0]],len(dict_pix[list_keys[0]]))\n",
    "\n",
    "fig, axs = plt.subplots(figsize = [10,9])\n",
    "axs.imshow(rows_gauss[3])\n",
    "\n",
    "initial_row = [[0, 0,  0,  0,  0, 0, 0]]\n",
    "list_image_muon.append(initial_row)\n",
    "\n",
    "n_pixel = [1]\n",
    "m_row = 1\n",
    "\n",
    "for index in np.arange(0, len(list_keys)):\n",
    "    # rows_gauss = np.vsplit(dict_pix[list_keys[index]],len(dict_pix[list_keys[index]][0]))\n",
    "\n",
    "    # for index_row in np.arange(0, m_row):\n",
    "    #     list_image_muon.append(rows_gauss[index_row])\n",
    "    #     m_row = m_row + 1\n",
    "    \n",
    "    if index == 0:\n",
    "        # print(index)\n",
    "        rows_gauss = np.vsplit(dict_pix[list_keys[index]],len(dict_pix[list_keys[index]][0]))\n",
    "\n",
    "        rows_gauss_next_1 = np.vsplit(dict_pix[list_keys[index + 1]],len(dict_pix[list_keys[index]][0]))\n",
    "        rows_gauss_next_2 = np.vsplit(dict_pix[list_keys[index + 2]],len(dict_pix[list_keys[index]][0]))\n",
    "        rows_gauss_next_3 = np.vsplit(dict_pix[list_keys[index + 3]],len(dict_pix[list_keys[index]][0]))\n",
    "        rows_gauss_next_4 = np.vsplit(dict_pix[list_keys[index + 4]],len(dict_pix[list_keys[index]][0]))\n",
    "        rows_gauss_next_5 = np.vsplit(dict_pix[list_keys[index + 5]],len(dict_pix[list_keys[index]][0]))\n",
    "        rows_gauss_next_6 = np.vsplit(dict_pix[list_keys[index + 6]],len(dict_pix[list_keys[index]][0]))\n",
    "\n",
    "        list_image_muon.append(rows_gauss[0])\n",
    "        list_image_muon.append(rows_gauss[1] + rows_gauss_next_1[0])\n",
    "        list_image_muon.append(rows_gauss[2] + rows_gauss_next_1[1] + rows_gauss_next_2[0])\n",
    "        list_image_muon.append(rows_gauss[3] + rows_gauss_next_1[2] + rows_gauss_next_2[1] + rows_gauss_next_3[0])\n",
    "        list_image_muon.append(rows_gauss[4] + rows_gauss_next_1[3] + rows_gauss_next_2[2] + rows_gauss_next_3[1] + rows_gauss_next_4[0])\n",
    "        list_image_muon.append(rows_gauss[5] + rows_gauss_next_1[4] + rows_gauss_next_2[3] + rows_gauss_next_3[2] + rows_gauss_next_4[1] + rows_gauss_next_5[0])\n",
    "        list_image_muon.append(rows_gauss[6] + rows_gauss_next_1[5] + rows_gauss_next_2[4] + rows_gauss_next_3[3] + rows_gauss_next_4[2] + rows_gauss_next_5[1] + rows_gauss_next_6[0])\n",
    "\n",
    "    # len(list_keys) - 6\n",
    "    if 0 < index < 2 :\n",
    "        # print(index)\n",
    "        rows_gauss = np.vsplit(dict_pix[list_keys[index]],len(dict_pix[list_keys[index]][0]))\n",
    "\n",
    "        rows_gauss_next_1 = np.vsplit(dict_pix[list_keys[index + 1]],len(dict_pix[list_keys[index]][0]))\n",
    "        rows_gauss_next_2 = np.vsplit(dict_pix[list_keys[index + 2]],len(dict_pix[list_keys[index]][0]))\n",
    "        rows_gauss_next_3 = np.vsplit(dict_pix[list_keys[index + 3]],len(dict_pix[list_keys[index]][0]))\n",
    "        rows_gauss_next_4 = np.vsplit(dict_pix[list_keys[index + 4]],len(dict_pix[list_keys[index]][0]))\n",
    "        rows_gauss_next_5 = np.vsplit(dict_pix[list_keys[index + 5]],len(dict_pix[list_keys[index]][0]))\n",
    "        rows_gauss_next_6 = np.vsplit(dict_pix[list_keys[index + 6]],len(dict_pix[list_keys[index]][0]))\n",
    "\n",
    "        list_image_muon.append(rows_gauss[3] + rows_gauss_next_1[2] + rows_gauss_next_2[1] + rows_gauss_next_3[0])\n",
    "        list_image_muon.append(rows_gauss[4] + rows_gauss_next_1[3] + rows_gauss_next_2[2] + rows_gauss_next_3[1] + rows_gauss_next_4[0])\n",
    "        list_image_muon.append(rows_gauss[5] + rows_gauss_next_1[4] + rows_gauss_next_2[3] + rows_gauss_next_3[2] + rows_gauss_next_4[1] + rows_gauss_next_5[0])\n",
    "        list_image_muon.append(rows_gauss[6] + rows_gauss_next_1[5] + rows_gauss_next_2[4] + rows_gauss_next_3[3] + rows_gauss_next_4[2] + rows_gauss_next_5[1] + rows_gauss_next_6[0])\n",
    "\n",
    "        # list_image_muon.append(rows_gauss_next[0])\n",
    "        # list_image_muon.append(rows_gauss_next[1])\n",
    "        # list_image_muon.append(rows_gauss_next[2])\n",
    "        # list_image_muon.append(rows_gauss_next[3])\n",
    "        # list_image_muon.append(rows_gauss_next[4])\n",
    "        # list_image_muon.append(rows_gauss_next[5])\n",
    "        # list_image_muon.append(rows_gauss_next[6])\n",
    "        # list_image_muon.append(rows_gauss[7])\n",
    "    #     contribution_1 = rows_gauss[3]\n",
    "    #     contribution_2 = rows_gauss[4]\n",
    "\n",
    "    # elif index == 1:\n",
    "    #     list_image_muon.append(rows_gauss[2] + contribution_1)\n",
    "    #     contribution_1 = rows_gauss[3] + contribution_2\n",
    "    #     contribution_2 = rows_gauss[4]\n",
    "\n",
    "    # elif 1 < index < len(list_gaussians) - 1:\n",
    "    #     list_image_muon.append(rows_gauss[2] + contribution_1 + contribution_2)\n",
    "    #     contribution_1 = rows_gauss[3] + contribution_2\n",
    "    #     contribution_2 = rows_gauss[4]\n",
    "\n",
    "    # elif index == len(list_gaussians) - 1 :\n",
    "    #     list_image_muon.append(rows_gauss[2] + contribution_1 + contribution_2)\n",
    "    #     list_image_muon.append(rows_gauss[3] + contribution_2)\n",
    "    #     list_image_muon.append(rows_gauss[4])\n",
    "    #     # list_image_muon.append(rows_gauss[5])\n",
    "\n",
    "# final_row = [[0, 0,  0,  0,  0, 0, 0]]\n",
    "# list_image_muon.append(final_row)\n",
    "\n",
    "print(len(list_image_muon))\n",
    "imagen = np.concatenate(list_image_muon, axis = 0)\n",
    "# Zeros = np.zeros([int(np.around(delta_XY_px,0)), anchura_max])\n",
    "# print(Zeros.shape)\n",
    "# x, y = np.meshgrid(i, j)\n",
    "# plt.imshow(Zeros)\n",
    "# imagen = np.concatenate((Gaussian_1, Gaussian_2), axis = 0)\n",
    "\n",
    "fig, axs = plt.subplots(figsize=[8, 13])\n",
    "x1 = axs.imshow(imagen, origin = 'lower')#, vmin=0, vmax=charge_per_line/10)\n",
    "# fig.colorbar(x1)\n",
    "plt.show()"
   ]
  },
  {
   "cell_type": "code",
   "execution_count": 122,
   "metadata": {},
   "outputs": [],
   "source": [
    "for index in np.arange(0, len(list_keys)):\n",
    "    rows_gauss = np.vsplit(dict_pix[list_keys[index]],len(dict_pix[list_keys[index]]))\n",
    "\n",
    "    # rows_gauss_2 = np.vsplit(list_gaussians[1],5)\n",
    "    # rows_gauss_3 = np.vsplit(list_gaussians[2],5)\n",
    "    # rows_gauss_4 = np.vsplit(list_gaussians[3],5)\n",
    "    # print(rows_gauss[2])\n",
    "    if index == 0:\n",
    "        rows_gauss_next = np.vsplit(dict_pix[list_keys[index + 1]],len(dict_pix[list_keys[index + 1]]))\n",
    "\n",
    "        list_image_muon.append(rows_gauss[3] + rows_gauss_next[1])\n",
    "        contribution_1 = rows_gauss[3]\n",
    "        contribution_2 = rows_gauss[4]\n",
    "\n",
    "    elif index == 1:\n",
    "        list_image_muon.append(rows_gauss[2] + contribution_1)\n",
    "        contribution_1 = rows_gauss[3] + contribution_2\n",
    "        contribution_2 = rows_gauss[4]\n",
    "\n",
    "    elif 1 < index < len(list_keys) - 1:\n",
    "        list_image_muon.append(rows_gauss[2] + contribution_1 + contribution_2)\n",
    "        contribution_1 = rows_gauss[3] + contribution_2\n",
    "        contribution_2 = rows_gauss[4]\n",
    "\n",
    "    elif index ==len(list_keys) - 1 :\n",
    "        list_image_muon.append(rows_gauss[2] + contribution_1 + contribution_2)\n",
    "        list_image_muon.append(rows_gauss[3] + contribution_2)\n",
    "        list_image_muon.append(rows_gauss[4])\n",
    "        # list_image_muon.append(rows_gauss[5])\n",
    "\n",
    "final_row = [[0, 0,  0,  0,  0, 0, 0]]\n",
    "list_image_muon.append(final_row)"
   ]
  },
  {
   "cell_type": "code",
   "execution_count": 125,
   "metadata": {},
   "outputs": [
    {
     "data": {
      "image/png": "[encoded data removed]",
      "text/plain": [
       "<Figure size 576x936 with 1 Axes>"
      ]
     },
     "metadata": {
      "needs_background": "light"
     },
     "output_type": "display_data"
    }
   ],
   "source": [
    "imagen = np.concatenate(list_image_muon, axis = 0)\n",
    "# Zeros = np.zeros([int(np.around(delta_XY_px,0)), anchura_max])\n",
    "# print(Zeros.shape)\n",
    "# x, y = np.meshgrid(i, j)\n",
    "# plt.imshow(Zeros)\n",
    "# imagen = np.concatenate((Gaussian_1, Gaussian_2), axis = 0)\n",
    "\n",
    "fig, axs = plt.subplots(figsize=[8, 13])\n",
    "x1 = axs.imshow(imagen, origin = 'lower')\n",
    "# fig.colorbar(x1)\n",
    "plt.show()"
   ]
  },
  {
   "cell_type": "code",
   "execution_count": 71,
   "metadata": {},
   "outputs": [
    {
     "ename": "MemoryError",
     "evalue": "Unable to allocate 298. GiB for an array with shape (200000, 200000) and data type float64",
     "output_type": "error",
     "traceback": [
      "\u001b[0;31m---------------------------------------------------------------------------\u001b[0m",
      "\u001b[0;31mMemoryError\u001b[0m                               Traceback (most recent call last)",
      "\u001b[0;32m/tmp/ipykernel_5156/1866226452.py\u001b[0m in \u001b[0;36m<module>\u001b[0;34m\u001b[0m\n\u001b[1;32m      2\u001b[0m \u001b[0mdata_y\u001b[0m \u001b[0;34m=\u001b[0m \u001b[0mscipy\u001b[0m\u001b[0;34m.\u001b[0m\u001b[0mstats\u001b[0m\u001b[0;34m.\u001b[0m\u001b[0mnorm\u001b[0m\u001b[0;34m.\u001b[0m\u001b[0mrvs\u001b[0m\u001b[0;34m(\u001b[0m\u001b[0msize\u001b[0m\u001b[0;34m=\u001b[0m\u001b[0;36m200000\u001b[0m\u001b[0;34m,\u001b[0m \u001b[0mloc\u001b[0m\u001b[0;34m=\u001b[0m\u001b[0;36m0\u001b[0m\u001b[0;34m,\u001b[0m \u001b[0mscale\u001b[0m \u001b[0;34m=\u001b[0m \u001b[0msigma\u001b[0m\u001b[0;34m)\u001b[0m\u001b[0;34m\u001b[0m\u001b[0;34m\u001b[0m\u001b[0m\n\u001b[1;32m      3\u001b[0m \u001b[0;34m\u001b[0m\u001b[0m\n\u001b[0;32m----> 4\u001b[0;31m \u001b[0mnp\u001b[0m\u001b[0;34m.\u001b[0m\u001b[0mmeshgrid\u001b[0m\u001b[0;34m(\u001b[0m\u001b[0mdata_x\u001b[0m\u001b[0;34m,\u001b[0m \u001b[0mdata_y\u001b[0m\u001b[0;34m)\u001b[0m\u001b[0;34m\u001b[0m\u001b[0;34m\u001b[0m\u001b[0m\n\u001b[0m",
      "\u001b[0;32m~/.local/lib/python3.10/site-packages/numpy/core/overrides.py\u001b[0m in \u001b[0;36mmeshgrid\u001b[0;34m(*args, **kwargs)\u001b[0m\n",
      "\u001b[0;32m~/.local/lib/python3.10/site-packages/numpy/lib/function_base.py\u001b[0m in \u001b[0;36mmeshgrid\u001b[0;34m(copy, sparse, indexing, *xi)\u001b[0m\n\u001b[1;32m   5043\u001b[0m \u001b[0;34m\u001b[0m\u001b[0m\n\u001b[1;32m   5044\u001b[0m     \u001b[0;32mif\u001b[0m \u001b[0mcopy\u001b[0m\u001b[0;34m:\u001b[0m\u001b[0;34m\u001b[0m\u001b[0;34m\u001b[0m\u001b[0m\n\u001b[0;32m-> 5045\u001b[0;31m         \u001b[0moutput\u001b[0m \u001b[0;34m=\u001b[0m \u001b[0;34m[\u001b[0m\u001b[0mx\u001b[0m\u001b[0;34m.\u001b[0m\u001b[0mcopy\u001b[0m\u001b[0;34m(\u001b[0m\u001b[0;34m)\u001b[0m \u001b[0;32mfor\u001b[0m \u001b[0mx\u001b[0m \u001b[0;32min\u001b[0m \u001b[0moutput\u001b[0m\u001b[0;34m]\u001b[0m\u001b[0;34m\u001b[0m\u001b[0;34m\u001b[0m\u001b[0m\n\u001b[0m\u001b[1;32m   5046\u001b[0m \u001b[0;34m\u001b[0m\u001b[0m\n\u001b[1;32m   5047\u001b[0m     \u001b[0;32mreturn\u001b[0m \u001b[0moutput\u001b[0m\u001b[0;34m\u001b[0m\u001b[0;34m\u001b[0m\u001b[0m\n",
      "\u001b[0;32m~/.local/lib/python3.10/site-packages/numpy/lib/function_base.py\u001b[0m in \u001b[0;36m<listcomp>\u001b[0;34m(.0)\u001b[0m\n\u001b[1;32m   5043\u001b[0m \u001b[0;34m\u001b[0m\u001b[0m\n\u001b[1;32m   5044\u001b[0m     \u001b[0;32mif\u001b[0m \u001b[0mcopy\u001b[0m\u001b[0;34m:\u001b[0m\u001b[0;34m\u001b[0m\u001b[0;34m\u001b[0m\u001b[0m\n\u001b[0;32m-> 5045\u001b[0;31m         \u001b[0moutput\u001b[0m \u001b[0;34m=\u001b[0m \u001b[0;34m[\u001b[0m\u001b[0mx\u001b[0m\u001b[0;34m.\u001b[0m\u001b[0mcopy\u001b[0m\u001b[0;34m(\u001b[0m\u001b[0;34m)\u001b[0m \u001b[0;32mfor\u001b[0m \u001b[0mx\u001b[0m \u001b[0;32min\u001b[0m \u001b[0moutput\u001b[0m\u001b[0;34m]\u001b[0m\u001b[0;34m\u001b[0m\u001b[0;34m\u001b[0m\u001b[0m\n\u001b[0m\u001b[1;32m   5046\u001b[0m \u001b[0;34m\u001b[0m\u001b[0m\n\u001b[1;32m   5047\u001b[0m     \u001b[0;32mreturn\u001b[0m \u001b[0moutput\u001b[0m\u001b[0;34m\u001b[0m\u001b[0;34m\u001b[0m\u001b[0m\n",
      "\u001b[0;31mMemoryError\u001b[0m: Unable to allocate 298. GiB for an array with shape (200000, 200000) and data type float64"
     ]
    }
   ],
   "source": [
    "data_x = scipy.stats.norm.rvs(size=200000, loc=0, scale = sigma)\n",
    "data_y = scipy.stats.norm.rvs(size=200000, loc=0, scale = sigma) \n",
    "\n",
    "np.meshgrid(data_x, data_y)"
   ]
  },
  {
   "cell_type": "code",
   "execution_count": 69,
   "metadata": {},
   "outputs": [
    {
     "name": "stdout",
     "output_type": "stream",
     "text": [
      "<scipy.stats._distn_infrastructure.rv_discrete object at 0x791136b2ed40>\n"
     ]
    }
   ],
   "source": [
    "discrete = scipy.stats.rv_discrete(a = -7, b = 7)\n",
    "print(discrete)"
   ]
  }
 ],
 "metadata": {
  "kernelspec": {
   "display_name": "Python 3",
   "language": "python",
   "name": "python3"
  },
  "language_info": {
   "codemirror_mode": {
    "name": "ipython",
    "version": 3
   },
   "file_extension": ".py",
   "mimetype": "text/x-python",
   "name": "python",
   "nbconvert_exporter": "python",
   "pygments_lexer": "ipython3",
   "version": "3.10.12"
  }
 },
 "nbformat": 4,
 "nbformat_minor": 2
}
