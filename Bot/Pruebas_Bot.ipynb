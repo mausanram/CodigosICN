{
 "cells": [
  {
   "cell_type": "code",
   "execution_count": 8,
   "metadata": {},
   "outputs": [],
   "source": [
    "from AuxiliaresBot import ReadTemp\n",
    "import pandas as pd"
   ]
  },
  {
   "cell_type": "code",
   "execution_count": 5,
   "metadata": {},
   "outputs": [],
   "source": [
    "temp_335= ReadTemp('/home/bruce/Documents/Programas/Bot/history_2023Aug11.txt')\n"
   ]
  },
  {
   "cell_type": "markdown",
   "metadata": {},
   "source": [
    "# DataFrame de Usuarios"
   ]
  },
  {
   "cell_type": "code",
   "execution_count": 11,
   "metadata": {},
   "outputs": [],
   "source": [
    "dict_Users = {'09062001':{'TempAlarm':False}, '012345' : {'TempAlarm':False}}\n",
    "UsersDataFrame = pd.DataFrame(dict_Users)"
   ]
  },
  {
   "cell_type": "code",
   "execution_count": 12,
   "metadata": {},
   "outputs": [
    {
     "data": {
      "text/html": [
       "<div>\n",
       "<style scoped>\n",
       "    .dataframe tbody tr th:only-of-type {\n",
       "        vertical-align: middle;\n",
       "    }\n",
       "\n",
       "    .dataframe tbody tr th {\n",
       "        vertical-align: top;\n",
       "    }\n",
       "\n",
       "    .dataframe thead th {\n",
       "        text-align: right;\n",
       "    }\n",
       "</style>\n",
       "<table border=\"1\" class=\"dataframe\">\n",
       "  <thead>\n",
       "    <tr style=\"text-align: right;\">\n",
       "      <th></th>\n",
       "      <th>09062001</th>\n",
       "      <th>012345</th>\n",
       "    </tr>\n",
       "  </thead>\n",
       "  <tbody>\n",
       "    <tr>\n",
       "      <th>TempAlarm</th>\n",
       "      <td>False</td>\n",
       "      <td>False</td>\n",
       "    </tr>\n",
       "  </tbody>\n",
       "</table>\n",
       "</div>"
      ],
      "text/plain": [
       "           09062001  012345\n",
       "TempAlarm     False   False"
      ]
     },
     "execution_count": 12,
     "metadata": {},
     "output_type": "execute_result"
    }
   ],
   "source": [
    "UsersDataFrame"
   ]
  },
  {
   "cell_type": "code",
   "execution_count": null,
   "metadata": {},
   "outputs": [],
   "source": [
    "UsersDataFrame.to_csv()"
   ]
  },
  {
   "cell_type": "markdown",
   "metadata": {},
   "source": [
    "# Lineas de Archivo de Temperatura"
   ]
  },
  {
   "cell_type": "code",
   "execution_count": 7,
   "metadata": {},
   "outputs": [
    {
     "name": "stdout",
     "output_type": "stream",
     "text": [
      "['21:14:47', '2023-08-23,', '+170.00,', '+169.97,', 'HP', '+002.9%', 'High']\n"
     ]
    }
   ],
   "source": [
    "print(temp_335)\n",
    "# tempList = temp_335.split(' ')\n"
   ]
  },
  {
   "cell_type": "code",
   "execution_count": 39,
   "metadata": {},
   "outputs": [
    {
     "name": "stdout",
     "output_type": "stream",
     "text": [
      "['22:05:31', '2023-08-17,', '+170.00,', '+169.98,', 'HP', '+003.1%', 'High']\n",
      "22:05:31\n",
      "2023-08-17,\n",
      "+170.00,\n",
      "+003.1%\n",
      "High\n"
     ]
    }
   ],
   "source": [
    "cleanlist = []\n",
    "for line in tempList:\n",
    "    if line.startswith('\\n'):\n",
    "        continue\n",
    "    if len(line) == 0:\n",
    "        continue\n",
    "    cleanlist.append(line)\n",
    "\n",
    "print(cleanlist)\n",
    "\n",
    "measureTime = cleanlist[0]\n",
    "Date = cleanlist[1]\n",
    "CernoxA = cleanlist[2]\n",
    "heater = cleanlist[-2]\n",
    "power = cleanlist[-1]\n",
    "\n",
    "# hour, min, seg = tempList[0].split(':')\n",
    "# print(tempList[0])\n",
    "# print(tempList[2])\n",
    "# len(tempList[1])\n",
    "print(measureTime)\n",
    "print(Date)\n",
    "print(CernoxA)\n",
    "print(heater)\n",
    "print(power)"
   ]
  }
 ],
 "metadata": {
  "kernelspec": {
   "display_name": "Python 3",
   "language": "python",
   "name": "python3"
  },
  "language_info": {
   "codemirror_mode": {
    "name": "ipython",
    "version": 3
   },
   "file_extension": ".py",
   "mimetype": "text/x-python",
   "name": "python",
   "nbconvert_exporter": "python",
   "pygments_lexer": "ipython3",
   "version": "3.10.12"
  },
  "orig_nbformat": 4
 },
 "nbformat": 4,
 "nbformat_minor": 2
}
