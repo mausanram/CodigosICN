{
 "cells": [
  {
   "cell_type": "code",
   "execution_count": 2,
   "metadata": {},
   "outputs": [],
   "source": [
    "from AuxiliaresBot import ReadTemp\n",
    "import pandas as pd\n",
    "import csv"
   ]
  },
  {
   "cell_type": "code",
   "execution_count": 5,
   "metadata": {},
   "outputs": [],
   "source": [
    "temp_335= ReadTemp('/home/bruce/Documents/Programas/Bot/history_2023Aug11.txt')\n"
   ]
  },
  {
   "cell_type": "markdown",
   "metadata": {},
   "source": [
    "# DataFrame de Usuarios"
   ]
  },
  {
   "cell_type": "code",
   "execution_count": 272,
   "metadata": {},
   "outputs": [
    {
     "data": {
      "text/html": [
       "<div>\n",
       "<style scoped>\n",
       "    .dataframe tbody tr th:only-of-type {\n",
       "        vertical-align: middle;\n",
       "    }\n",
       "\n",
       "    .dataframe tbody tr th {\n",
       "        vertical-align: top;\n",
       "    }\n",
       "\n",
       "    .dataframe thead th {\n",
       "        text-align: right;\n",
       "    }\n",
       "</style>\n",
       "<table border=\"1\" class=\"dataframe\">\n",
       "  <thead>\n",
       "    <tr style=\"text-align: right;\">\n",
       "      <th></th>\n",
       "      <th>User_ID</th>\n",
       "      <th>Temp_Alarm</th>\n",
       "    </tr>\n",
       "  </thead>\n",
       "  <tbody>\n",
       "    <tr>\n",
       "      <th>0</th>\n",
       "      <td>18616105</td>\n",
       "      <td>False</td>\n",
       "    </tr>\n",
       "  </tbody>\n",
       "</table>\n",
       "</div>"
      ],
      "text/plain": [
       "    User_ID  Temp_Alarm\n",
       "0  18616105       False"
      ]
     },
     "execution_count": 272,
     "metadata": {},
     "output_type": "execute_result"
    }
   ],
   "source": [
    "path_userinfo_csv = '/home/labdet/Documents/MauSan/Programas/Repositorio_Git/Bot/UsersBot.csv'\n",
    "\n",
    "with open(path_userinfo_csv, 'w', newline='') as file:\n",
    "    firstKeys = ['User_ID', 'Temp_Alarm']\n",
    "    writer = csv.DictWriter(file, fieldnames = firstKeys)\n",
    "    writer.writeheader()\n",
    "    writer.writerow({'User_ID' : '18616105', 'Temp_Alarm' : False})\n",
    "    \n",
    "    file.close()\n",
    "\n",
    "DataFrame = pd.read_csv(path_userinfo_csv)\n",
    "DataFrame"
   ]
  },
  {
   "cell_type": "code",
   "execution_count": 262,
   "metadata": {},
   "outputs": [],
   "source": [
    "def Users_DataFrame(path_userinfo_csv):\n",
    "    User_dataframe = pd.read_csv(path_userinfo_csv)\n",
    "    return User_dataframe\n",
    "\n",
    "def AddUser_to_csv(DataFrame, user_id, number_of_jobs):\n",
    "    user_ID_Flag = True\n",
    "\n",
    "    for user in list(DataFrame['User_ID']):\n",
    "        if int(user) == user_id:\n",
    "            print('El usuario ya está registrado')\n",
    "            user_ID_Flag = False\n",
    "        \n",
    "    if user_ID_Flag:\n",
    "        if number_of_jobs == 1:\n",
    "            DataFrame.loc[len(DataFrame.index)] = [str(user_id), False]\n",
    "            DataFrame.to_csv(path_or_buf = path_userinfo_csv, index_label=False)\n",
    "            DataFrame = pd.read_csv(path_userinfo_csv)\n",
    "        \n",
    "        elif number_of_jobs == 2:\n",
    "            DataFrame.loc[len(DataFrame.index)] = [str(user_id), False, True]\n",
    "            DataFrame.to_csv(path_or_buf = path_userinfo_csv, index_label=False)\n",
    "            DataFrame = pd.read_csv(path_userinfo_csv)\n",
    "    \n",
    "    else: \n",
    "        DataFrame = DataFrame\n",
    "\n",
    "    return DataFrame\n",
    "\n",
    "def UpdateValue_to_csv(user_id, DataFrame, option = 0):\n",
    "    for index_user in range(0,len(DataFrame['User_ID'])):\n",
    "        if DataFrame['User_ID'][index_user] == user_id:\n",
    "            index_user = index_user\n",
    "\n",
    "    if option == 0:\n",
    "        DataFrame.loc[index_user,'Temp_Alarm'] = not DataFrame['Temp_Alarm'][index_user]\n",
    "        DataFrame.to_csv(path_or_buf = path_userinfo_csv, index_label=False)\n",
    "        DataFrame = pd.read_csv(path_userinfo_csv)\n",
    "        return DataFrame\n",
    "    \n",
    "    ## Agregar mas valores para mas alertas o tareas.\n",
    "\n",
    "def AddJob_to_csv(DataFrame, job_name, job_value_default):\n",
    "    DataFrame[str(job_name)] = job_value_default\n",
    "    DataFrame.to_csv(path_or_buf = path_userinfo_csv, index_label=False)\n",
    "    DataFrame = pd.read_csv(path_userinfo_csv)\n",
    "    return DataFrame\n"
   ]
  },
  {
   "cell_type": "code",
   "execution_count": 277,
   "metadata": {},
   "outputs": [
    {
     "name": "stdout",
     "output_type": "stream",
     "text": [
      "Primer Data:\n"
     ]
    },
    {
     "data": {
      "text/html": [
       "<div>\n",
       "<style scoped>\n",
       "    .dataframe tbody tr th:only-of-type {\n",
       "        vertical-align: middle;\n",
       "    }\n",
       "\n",
       "    .dataframe tbody tr th {\n",
       "        vertical-align: top;\n",
       "    }\n",
       "\n",
       "    .dataframe thead th {\n",
       "        text-align: right;\n",
       "    }\n",
       "</style>\n",
       "<table border=\"1\" class=\"dataframe\">\n",
       "  <thead>\n",
       "    <tr style=\"text-align: right;\">\n",
       "      <th></th>\n",
       "      <th>User_ID</th>\n",
       "      <th>Temp_Alarm</th>\n",
       "      <th>X_Alarm</th>\n",
       "    </tr>\n",
       "  </thead>\n",
       "  <tbody>\n",
       "    <tr>\n",
       "      <th>0</th>\n",
       "      <td>18616105</td>\n",
       "      <td>False</td>\n",
       "      <td>True</td>\n",
       "    </tr>\n",
       "    <tr>\n",
       "      <th>1</th>\n",
       "      <td>1029384756</td>\n",
       "      <td>False</td>\n",
       "      <td>True</td>\n",
       "    </tr>\n",
       "  </tbody>\n",
       "</table>\n",
       "</div>"
      ],
      "text/plain": [
       "      User_ID  Temp_Alarm  X_Alarm\n",
       "0    18616105       False     True\n",
       "1  1029384756       False     True"
      ]
     },
     "metadata": {},
     "output_type": "display_data"
    },
    {
     "name": "stdout",
     "output_type": "stream",
     "text": [
      "El usuario ya está registrado\n",
      "añadiendo un usuario:\n"
     ]
    },
    {
     "data": {
      "text/html": [
       "<div>\n",
       "<style scoped>\n",
       "    .dataframe tbody tr th:only-of-type {\n",
       "        vertical-align: middle;\n",
       "    }\n",
       "\n",
       "    .dataframe tbody tr th {\n",
       "        vertical-align: top;\n",
       "    }\n",
       "\n",
       "    .dataframe thead th {\n",
       "        text-align: right;\n",
       "    }\n",
       "</style>\n",
       "<table border=\"1\" class=\"dataframe\">\n",
       "  <thead>\n",
       "    <tr style=\"text-align: right;\">\n",
       "      <th></th>\n",
       "      <th>User_ID</th>\n",
       "      <th>Temp_Alarm</th>\n",
       "      <th>X_Alarm</th>\n",
       "    </tr>\n",
       "  </thead>\n",
       "  <tbody>\n",
       "    <tr>\n",
       "      <th>0</th>\n",
       "      <td>18616105</td>\n",
       "      <td>False</td>\n",
       "      <td>True</td>\n",
       "    </tr>\n",
       "    <tr>\n",
       "      <th>1</th>\n",
       "      <td>1029384756</td>\n",
       "      <td>False</td>\n",
       "      <td>True</td>\n",
       "    </tr>\n",
       "  </tbody>\n",
       "</table>\n",
       "</div>"
      ],
      "text/plain": [
       "      User_ID  Temp_Alarm  X_Alarm\n",
       "0    18616105       False     True\n",
       "1  1029384756       False     True"
      ]
     },
     "metadata": {},
     "output_type": "display_data"
    },
    {
     "name": "stdout",
     "output_type": "stream",
     "text": [
      "Actualizando unn valor:\n"
     ]
    },
    {
     "data": {
      "text/html": [
       "<div>\n",
       "<style scoped>\n",
       "    .dataframe tbody tr th:only-of-type {\n",
       "        vertical-align: middle;\n",
       "    }\n",
       "\n",
       "    .dataframe tbody tr th {\n",
       "        vertical-align: top;\n",
       "    }\n",
       "\n",
       "    .dataframe thead th {\n",
       "        text-align: right;\n",
       "    }\n",
       "</style>\n",
       "<table border=\"1\" class=\"dataframe\">\n",
       "  <thead>\n",
       "    <tr style=\"text-align: right;\">\n",
       "      <th></th>\n",
       "      <th>User_ID</th>\n",
       "      <th>Temp_Alarm</th>\n",
       "      <th>X_Alarm</th>\n",
       "    </tr>\n",
       "  </thead>\n",
       "  <tbody>\n",
       "    <tr>\n",
       "      <th>0</th>\n",
       "      <td>18616105</td>\n",
       "      <td>False</td>\n",
       "      <td>True</td>\n",
       "    </tr>\n",
       "    <tr>\n",
       "      <th>1</th>\n",
       "      <td>1029384756</td>\n",
       "      <td>True</td>\n",
       "      <td>True</td>\n",
       "    </tr>\n",
       "  </tbody>\n",
       "</table>\n",
       "</div>"
      ],
      "text/plain": [
       "      User_ID  Temp_Alarm  X_Alarm\n",
       "0    18616105       False     True\n",
       "1  1029384756        True     True"
      ]
     },
     "metadata": {},
     "output_type": "display_data"
    },
    {
     "name": "stdout",
     "output_type": "stream",
     "text": [
      "añadiendo una tarea:\n"
     ]
    },
    {
     "data": {
      "text/html": [
       "<div>\n",
       "<style scoped>\n",
       "    .dataframe tbody tr th:only-of-type {\n",
       "        vertical-align: middle;\n",
       "    }\n",
       "\n",
       "    .dataframe tbody tr th {\n",
       "        vertical-align: top;\n",
       "    }\n",
       "\n",
       "    .dataframe thead th {\n",
       "        text-align: right;\n",
       "    }\n",
       "</style>\n",
       "<table border=\"1\" class=\"dataframe\">\n",
       "  <thead>\n",
       "    <tr style=\"text-align: right;\">\n",
       "      <th></th>\n",
       "      <th>User_ID</th>\n",
       "      <th>Temp_Alarm</th>\n",
       "      <th>X_Alarm</th>\n",
       "    </tr>\n",
       "  </thead>\n",
       "  <tbody>\n",
       "    <tr>\n",
       "      <th>0</th>\n",
       "      <td>18616105</td>\n",
       "      <td>False</td>\n",
       "      <td>True</td>\n",
       "    </tr>\n",
       "    <tr>\n",
       "      <th>1</th>\n",
       "      <td>1029384756</td>\n",
       "      <td>True</td>\n",
       "      <td>True</td>\n",
       "    </tr>\n",
       "  </tbody>\n",
       "</table>\n",
       "</div>"
      ],
      "text/plain": [
       "      User_ID  Temp_Alarm  X_Alarm\n",
       "0    18616105       False     True\n",
       "1  1029384756        True     True"
      ]
     },
     "metadata": {},
     "output_type": "display_data"
    },
    {
     "name": "stdout",
     "output_type": "stream",
     "text": [
      "El usuario ya está registrado\n"
     ]
    },
    {
     "data": {
      "text/html": [
       "<div>\n",
       "<style scoped>\n",
       "    .dataframe tbody tr th:only-of-type {\n",
       "        vertical-align: middle;\n",
       "    }\n",
       "\n",
       "    .dataframe tbody tr th {\n",
       "        vertical-align: top;\n",
       "    }\n",
       "\n",
       "    .dataframe thead th {\n",
       "        text-align: right;\n",
       "    }\n",
       "</style>\n",
       "<table border=\"1\" class=\"dataframe\">\n",
       "  <thead>\n",
       "    <tr style=\"text-align: right;\">\n",
       "      <th></th>\n",
       "      <th>User_ID</th>\n",
       "      <th>Temp_Alarm</th>\n",
       "      <th>X_Alarm</th>\n",
       "    </tr>\n",
       "  </thead>\n",
       "  <tbody>\n",
       "    <tr>\n",
       "      <th>0</th>\n",
       "      <td>18616105</td>\n",
       "      <td>False</td>\n",
       "      <td>True</td>\n",
       "    </tr>\n",
       "    <tr>\n",
       "      <th>1</th>\n",
       "      <td>1029384756</td>\n",
       "      <td>True</td>\n",
       "      <td>True</td>\n",
       "    </tr>\n",
       "  </tbody>\n",
       "</table>\n",
       "</div>"
      ],
      "text/plain": [
       "      User_ID  Temp_Alarm  X_Alarm\n",
       "0    18616105       False     True\n",
       "1  1029384756        True     True"
      ]
     },
     "metadata": {},
     "output_type": "display_data"
    },
    {
     "name": "stdout",
     "output_type": "stream",
     "text": [
      "3\n"
     ]
    }
   ],
   "source": [
    "user_new = 1029384756\n",
    "\n",
    "dfUsers = Users_DataFrame(path_userinfo_csv)\n",
    "print('Primer Data:')\n",
    "display(dfUsers)\n",
    "\n",
    "dfUsers = AddUser_to_csv(dfUsers, user_new,1)\n",
    "print('añadiendo un usuario:')\n",
    "display(dfUsers)\n",
    "\n",
    "dfUsers = UpdateValue_to_csv(user_new, dfUsers)\n",
    "print('Actualizando unn valor:')\n",
    "display(dfUsers)\n",
    "\n",
    "dfUsers = AddJob_to_csv(dfUsers, 'X_Alarm', True)\n",
    "print('añadiendo una tarea:')\n",
    "display(dfUsers)\n",
    "\n",
    "## Ya no agrega a los mismos usuarios\n",
    "dfUsers = AddUser_to_csv(dfUsers, user_new,2)\n",
    "display(dfUsers)\n",
    "\n",
    "# type(list(dfUsers['User_ID'])[0])\n",
    "print(len(dfUsers.columns))"
   ]
  },
  {
   "cell_type": "code",
   "execution_count": 247,
   "metadata": {},
   "outputs": [
    {
     "name": "stdout",
     "output_type": "stream",
     "text": [
      "9062001 <class 'int'>\n",
      "1029384756 <class 'int'>\n",
      "1029384756 <class 'int'>\n"
     ]
    }
   ],
   "source": [
    "for user in list(dfUsers['User_ID']):\n",
    "    print(str(user), type(user))"
   ]
  },
  {
   "cell_type": "markdown",
   "metadata": {},
   "source": [
    "# Lineas de Archivo de Temperatura"
   ]
  },
  {
   "cell_type": "code",
   "execution_count": 7,
   "metadata": {},
   "outputs": [
    {
     "name": "stdout",
     "output_type": "stream",
     "text": [
      "['21:14:47', '2023-08-23,', '+170.00,', '+169.97,', 'HP', '+002.9%', 'High']\n"
     ]
    }
   ],
   "source": [
    "print(temp_335)\n",
    "# tempList = temp_335.split(' ')\n"
   ]
  },
  {
   "cell_type": "code",
   "execution_count": 39,
   "metadata": {},
   "outputs": [
    {
     "name": "stdout",
     "output_type": "stream",
     "text": [
      "['22:05:31', '2023-08-17,', '+170.00,', '+169.98,', 'HP', '+003.1%', 'High']\n",
      "22:05:31\n",
      "2023-08-17,\n",
      "+170.00,\n",
      "+003.1%\n",
      "High\n"
     ]
    }
   ],
   "source": [
    "cleanlist = []\n",
    "for line in tempList:\n",
    "    if line.startswith('\\n'):\n",
    "        continue\n",
    "    if len(line) == 0:\n",
    "        continue\n",
    "    cleanlist.append(line)\n",
    "\n",
    "print(cleanlist)\n",
    "\n",
    "measureTime = cleanlist[0]\n",
    "Date = cleanlist[1]\n",
    "CernoxA = cleanlist[2]\n",
    "heater = cleanlist[-2]\n",
    "power = cleanlist[-1]\n",
    "\n",
    "# hour, min, seg = tempList[0].split(':')\n",
    "# print(tempList[0])\n",
    "# print(tempList[2])\n",
    "# len(tempList[1])\n",
    "print(measureTime)\n",
    "print(Date)\n",
    "print(CernoxA)\n",
    "print(heater)\n",
    "print(power)"
   ]
  }
 ],
 "metadata": {
  "kernelspec": {
   "display_name": "Python 3",
   "language": "python",
   "name": "python3"
  },
  "language_info": {
   "codemirror_mode": {
    "name": "ipython",
    "version": 3
   },
   "file_extension": ".py",
   "mimetype": "text/x-python",
   "name": "python",
   "nbconvert_exporter": "python",
   "pygments_lexer": "ipython3",
   "version": "3.10.6"
  },
  "orig_nbformat": 4
 },
 "nbformat": 4,
 "nbformat_minor": 2
}
